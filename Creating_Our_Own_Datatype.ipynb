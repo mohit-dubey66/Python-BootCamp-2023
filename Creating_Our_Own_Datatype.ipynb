{
  "nbformat": 4,
  "nbformat_minor": 0,
  "metadata": {
    "colab": {
      "provenance": [],
      "authorship_tag": "ABX9TyM8NWyi+l1h6YjxxznbgcfB",
      "include_colab_link": true
    },
    "kernelspec": {
      "name": "python3",
      "display_name": "Python 3"
    },
    "language_info": {
      "name": "python"
    }
  },
  "cells": [
    {
      "cell_type": "markdown",
      "metadata": {
        "id": "view-in-github",
        "colab_type": "text"
      },
      "source": [
        "<a href=\"https://colab.research.google.com/github/mohit-dubey66/Python-BootCamp-2023/blob/main/Creating_Our_Own_Datatype.ipynb\" target=\"_parent\"><img src=\"https://colab.research.google.com/assets/colab-badge.svg\" alt=\"Open In Colab\"/></a>"
      ]
    },
    {
      "cell_type": "code",
      "execution_count": null,
      "metadata": {
        "id": "rLUyowvEHlgM"
      },
      "outputs": [],
      "source": [
        "#Fraction"
      ]
    },
    {
      "cell_type": "code",
      "source": [
        "class Fraction:\n",
        "    #parameterised constructor\n",
        "    def __init__(self, x, y):\n",
        "        self.num = x\n",
        "        self.den = y\n",
        "    \n",
        "    def __str__(self):\n",
        "        return f\"{self.num}/{self.den}\"\n",
        "\n",
        "    def __add__(self, other):\n",
        "        new_num = self.num * other.den + other.num * self.den\n",
        "        new_den = self.den * other.den\n",
        "        return f\"{new_num}/{new_den}\"\n",
        "\n",
        "    def __sub__(self, other):\n",
        "        new_num = self.num * other.den - other.num * self.den\n",
        "        new_den = self.den * other.den\n",
        "        return f\"{new_num}/{new_den}\"\n",
        "\n",
        "    def __mul__(self, other):\n",
        "        new_num = self.num * other.num\n",
        "        new_den = self.den * other.den\n",
        "        return f\"{new_num}/{new_den}\"\n",
        "\n",
        "    def __truediv__(self, other):\n",
        "        new_num = self.num * other.den\n",
        "        new_den = self.den * other.num\n",
        "        return f\"{new_num}/{new_den}\"\n",
        "\n",
        "    def convert_to_decimal(self):\n",
        "        return self.num/self.den"
      ],
      "metadata": {
        "id": "ouKrXPCDICw1"
      },
      "execution_count": 21,
      "outputs": []
    },
    {
      "cell_type": "code",
      "source": [
        "fr1 = Fraction(1,2)\n",
        "fr2 = Fraction(3,4)\n",
        "# print(fr1)\n",
        "# print(fr2)\n",
        "\n",
        "add = fr1 + fr2\n",
        "print(\"Addition: \",add)\n",
        "\n",
        "sub = fr1 - fr2\n",
        "print(\"Subtraction: \",sub)\n",
        "\n",
        "mul = fr1 * fr2\n",
        "print(\"Multiplication: \",mul)\n",
        "\n",
        "div = fr1 / fr2\n",
        "print(\"Division: \",div)"
      ],
      "metadata": {
        "colab": {
          "base_uri": "https://localhost:8080/"
        },
        "id": "ITe0h8tXJ4o7",
        "outputId": "fe148aeb-083d-499d-e596-b4a221c3a11f"
      },
      "execution_count": 22,
      "outputs": [
        {
          "output_type": "stream",
          "name": "stdout",
          "text": [
            "Addition:  10/8\n",
            "Subtraction:  -2/8\n",
            "Multiplication:  3/8\n",
            "Division:  4/6\n"
          ]
        }
      ]
    },
    {
      "cell_type": "code",
      "source": [
        "fr1.convert_to_decimal()"
      ],
      "metadata": {
        "colab": {
          "base_uri": "https://localhost:8080/"
        },
        "id": "kXRNNdogPksd",
        "outputId": "b2bdb241-c741-4db8-c304-e022d8459e89"
      },
      "execution_count": 23,
      "outputs": [
        {
          "output_type": "execute_result",
          "data": {
            "text/plain": [
              "0.5"
            ]
          },
          "metadata": {},
          "execution_count": 23
        }
      ]
    }
  ]
}