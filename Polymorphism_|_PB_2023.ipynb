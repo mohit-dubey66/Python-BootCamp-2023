{
  "nbformat": 4,
  "nbformat_minor": 0,
  "metadata": {
    "colab": {
      "provenance": [],
      "authorship_tag": "ABX9TyNZQlXkJ/PsPtYBR4c/KSP6",
      "include_colab_link": true
    },
    "kernelspec": {
      "name": "python3",
      "display_name": "Python 3"
    },
    "language_info": {
      "name": "python"
    }
  },
  "cells": [
    {
      "cell_type": "markdown",
      "metadata": {
        "id": "view-in-github",
        "colab_type": "text"
      },
      "source": [
        "<a href=\"https://colab.research.google.com/github/mohit-dubey66/Python-BootCamp-2023/blob/main/Polymorphism_%7C_PB_2023.ipynb\" target=\"_parent\"><img src=\"https://colab.research.google.com/assets/colab-badge.svg\" alt=\"Open In Colab\"/></a>"
      ]
    },
    {
      "cell_type": "markdown",
      "source": [
        "# **POLYMORPHISM**\n",
        "\n",
        "* Polymorphism in Python is the ability of an object to take many forms. In simple words, polymorphism allows us to perform the same action in many different ways.\n",
        "\n",
        "![polymorphism_person_takes_differet_forms.jpg](data:image/jpeg;base64,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)"
      ],
      "metadata": {
        "id": "u3H_zuV5LMmi"
      }
    },
    {
      "cell_type": "markdown",
      "source": [
        "**Polymorphism in Built-in function len()**"
      ],
      "metadata": {
        "id": "9dYGK6KfLZo4"
      }
    },
    {
      "cell_type": "code",
      "source": [
        "# Example\n",
        "\n",
        "students = ['Emma', 'Jessa', 'Kelly']\n",
        "school = 'ABC School'\n",
        "\n"
      ],
      "metadata": {
        "id": "ExKM_d2OLiiD"
      },
      "execution_count": null,
      "outputs": []
    },
    {
      "cell_type": "markdown",
      "source": [
        "**There are 2 types of Polymorphism in Python:**"
      ],
      "metadata": {
        "id": "_iSWhiu_Loia"
      }
    },
    {
      "cell_type": "markdown",
      "source": [
        "**1) Method Overriding**"
      ],
      "metadata": {
        "id": "WaNs7BKrOFdd"
      }
    },
    {
      "cell_type": "code",
      "source": [
        "# Example\n",
        "\n",
        "class Animal:\n",
        "    def speak(self):\n",
        "        print(\"Animal Speaks\")\n",
        "\n",
        "class Dog(Animal):\n",
        "    def speak(self):\n",
        "        print(\"Dog Barks!\")\n",
        "\n",
        "class Cat(Animal):\n",
        "    def speak(self):\n",
        "        print(\"Cat meows\")\n",
        "\n",
        "def animal_speaks(animal):\n",
        "    animal.speak() "
      ],
      "metadata": {
        "id": "NSxoYw7_OI85"
      },
      "execution_count": null,
      "outputs": []
    },
    {
      "cell_type": "code",
      "source": [
        "dog = Dog()\n",
        "cat = Cat()"
      ],
      "metadata": {
        "id": "9jk75UjKOnjN"
      },
      "execution_count": null,
      "outputs": []
    },
    {
      "cell_type": "code",
      "source": [
        "animal_speaks(dog)\n",
        "animal_speaks(cat)"
      ],
      "metadata": {
        "id": "OrB9rsJLOrbF"
      },
      "execution_count": null,
      "outputs": []
    },
    {
      "cell_type": "markdown",
      "source": [
        "**2) Method Overloading**\n",
        "* When a class defines multiple methods with the same name but different parameters. When a method is called, the appropriate method is selected based on the number and types of arguments passed in.\n",
        "\n",
        "* In Python, Method Overloading is not directly suported but we can achieve similar functionality using default parameter values and variable-length argument list."
      ],
      "metadata": {
        "id": "Ap8lCgYpOFj1"
      }
    },
    {
      "cell_type": "code",
      "source": [
        "# Example\n",
        "\n",
        "class Math:\n",
        "    def add(self, a = None, b = None, c = None):\n",
        "        "
      ],
      "metadata": {
        "id": "zhOYAhTIPx8X"
      },
      "execution_count": null,
      "outputs": []
    }
  ]
}