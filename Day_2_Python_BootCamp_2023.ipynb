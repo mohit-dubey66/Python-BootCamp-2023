{
  "nbformat": 4,
  "nbformat_minor": 0,
  "metadata": {
    "colab": {
      "provenance": [],
      "authorship_tag": "ABX9TyPooYdrM7fF3hIdNity3R00",
      "include_colab_link": true
    },
    "kernelspec": {
      "name": "python3",
      "display_name": "Python 3"
    },
    "language_info": {
      "name": "python"
    }
  },
  "cells": [
    {
      "cell_type": "markdown",
      "metadata": {
        "id": "view-in-github",
        "colab_type": "text"
      },
      "source": [
        "<a href=\"https://colab.research.google.com/github/mohit-dubey66/Python-BootCamp-2023/blob/main/Day_2_Python_BootCamp_2023.ipynb\" target=\"_parent\"><img src=\"https://colab.research.google.com/assets/colab-badge.svg\" alt=\"Open In Colab\"/></a>"
      ]
    },
    {
      "cell_type": "markdown",
      "source": [
        "# **USER INPUT**\n",
        "\n",
        "\n",
        "*   \"input()\" function is used to take input from user.\n",
        "*   By default it takes input as a string because string is an universal data format. E.g., int can be converted into string, but vice-versa is not possible.\n",
        "\n"
      ],
      "metadata": {
        "id": "v-sd6swLcJd4"
      }
    },
    {
      "cell_type": "code",
      "source": [
        "# input()\n",
        "\n",
        "\n",
        "# name = input()\n",
        "\n",
        "\n",
        "# input(\"Enter name: \")"
      ],
      "metadata": {
        "id": "pk4BKf7jcovR"
      },
      "execution_count": null,
      "outputs": []
    },
    {
      "cell_type": "markdown",
      "source": [
        "# **TYPE CONVERSION**\n",
        "1) Implicit type conversion: Python internally converts the data type. "
      ],
      "metadata": {
        "id": "wvSTI9Wlc3SK"
      }
    },
    {
      "cell_type": "code",
      "source": [
        "# print(5 + 5.6)"
      ],
      "metadata": {
        "id": "Ssf0vW3FdLVB"
      },
      "execution_count": null,
      "outputs": []
    },
    {
      "cell_type": "markdown",
      "source": [
        "However, implicit conversion not always works:"
      ],
      "metadata": {
        "id": "9cIl0m-GdP0d"
      }
    },
    {
      "cell_type": "code",
      "source": [
        "# print(5 + '4')"
      ],
      "metadata": {
        "id": "YvNOTgOodVC1"
      },
      "execution_count": null,
      "outputs": []
    },
    {
      "cell_type": "markdown",
      "source": [
        "2) Explicit Conversion: When programmer requests python to change the data type explicitly. There are some functions to explicitly change the data type."
      ],
      "metadata": {
        "id": "VFz5PVrpdZ8t"
      }
    },
    {
      "cell_type": "code",
      "source": [
        "#String ----> int\n",
        "#int('4')\n",
        "\n",
        "\n",
        "#int ----> string\n",
        "\n",
        "\n",
        "#int ----> float"
      ],
      "metadata": {
        "id": "gn7ZAENdd3XK"
      },
      "execution_count": null,
      "outputs": []
    },
    {
      "cell_type": "markdown",
      "source": [
        "**NOTE:** *While Type conversion, a new object is created of that instance/data and we work on new converted data.*"
      ],
      "metadata": {
        "id": "VMKzCbJrd6Y7"
      }
    },
    {
      "cell_type": "markdown",
      "source": [
        "**PROGRAM:** *Program to add two numbers, take input from user.*"
      ],
      "metadata": {
        "id": "sWagsM_6d99l"
      }
    },
    {
      "cell_type": "code",
      "source": [],
      "metadata": {
        "id": "0Hr5NnVheBuT"
      },
      "execution_count": null,
      "outputs": []
    },
    {
      "cell_type": "markdown",
      "source": [
        "# **OPERATORS IN PYTHON**\n",
        "1) Arithmetic Operators: (+, -, *, /, //, %, **)\n",
        "\n",
        "2) Relational Operators: (>, <, >=, <=, ==, !=)\n",
        "\n",
        "3) Logical Operators: (and, or, not)\n",
        "\n",
        "4) Bitwise Operators: (&, |, ^, ~, <<, >>)\n",
        "\n",
        "5) Assignment Operators: (=, +=, -=, *=, /=, %=, **=, &=, |=)\n",
        "\n",
        "6) Membership Operators: (in, not in)"
      ],
      "metadata": {
        "id": "-XAh9Ta_eE85"
      }
    },
    {
      "cell_type": "markdown",
      "source": [
        "1) Arithmetic Operators: (+, -, , /, //, %, *)"
      ],
      "metadata": {
        "id": "veYbUseDeJ5a"
      }
    },
    {
      "cell_type": "code",
      "source": [
        "# E.g."
      ],
      "metadata": {
        "id": "zmqwx-xneKiE"
      },
      "execution_count": null,
      "outputs": []
    },
    {
      "cell_type": "markdown",
      "source": [
        "2) Relational Operators: (>, <, >=, <=, ==, !=)"
      ],
      "metadata": {
        "id": "FYLcuJExeRTt"
      }
    },
    {
      "cell_type": "code",
      "source": [
        "# E.g."
      ],
      "metadata": {
        "id": "qQBzFzU2eT0S"
      },
      "execution_count": null,
      "outputs": []
    },
    {
      "cell_type": "markdown",
      "source": [
        "3) Logical Operators: (and, or, not)"
      ],
      "metadata": {
        "id": "zcscrDfKea8q"
      }
    },
    {
      "cell_type": "code",
      "source": [
        "# 1) and = returns true if both statements are true\n",
        "# print(1 and 0)\n",
        "\n",
        "# 2) or = returns True if one of the statements is true\n",
        "# print(1 or 0)\n",
        "\n",
        "# 3) not = reverse the result, returns False if the result is true\n",
        "# print(not 1)"
      ],
      "metadata": {
        "id": "FhxgFa1Seevd"
      },
      "execution_count": null,
      "outputs": []
    },
    {
      "cell_type": "markdown",
      "source": [
        "4) Bitwise Operators: (&, |, ^, ~, <<, >>)"
      ],
      "metadata": {
        "id": "lb-4Fkauemkd"
      }
    },
    {
      "cell_type": "code",
      "source": [],
      "metadata": {
        "id": "BeqNvhyNeqt-"
      },
      "execution_count": null,
      "outputs": []
    },
    {
      "cell_type": "markdown",
      "source": [
        "5) Assignment Operators: (=, +=, -=, *=, /=, %=, **=, &=, |=)\n"
      ],
      "metadata": {
        "id": "S7YekHx4euz8"
      }
    },
    {
      "cell_type": "code",
      "source": [
        "# E.g."
      ],
      "metadata": {
        "id": "LJcNEYWoe6-j"
      },
      "execution_count": null,
      "outputs": []
    },
    {
      "cell_type": "markdown",
      "source": [
        "6) Membership Operators: (in, not in)"
      ],
      "metadata": {
        "id": "ni-uJ5pXfNhy"
      }
    },
    {
      "cell_type": "code",
      "source": [
        "# E.g."
      ],
      "metadata": {
        "id": "vGHST_9OfPbH"
      },
      "execution_count": null,
      "outputs": []
    },
    {
      "cell_type": "markdown",
      "source": [
        "**PROGRAM:** Find the sum of a 3-digit number entered by the user? "
      ],
      "metadata": {
        "id": "SPjm1eE9ig8Z"
      }
    },
    {
      "cell_type": "markdown",
      "source": [
        "# **CONDITIONAL STATEMENTS**\n",
        "If-Else is used to code for branching fo code at a certain point of code execution.\n",
        "\n",
        "1) PROGRAM: Login system.\n",
        "\n",
        "2) PROGRAM: Little advance login system.\n",
        "\n",
        "3) PROGRAM: Find minimum of 3 numbers.\n",
        "\n",
        "4) PROGRAM: Menu driven calculator.(HW)"
      ],
      "metadata": {
        "id": "_GFsPnbXjgKk"
      }
    }
  ]
}