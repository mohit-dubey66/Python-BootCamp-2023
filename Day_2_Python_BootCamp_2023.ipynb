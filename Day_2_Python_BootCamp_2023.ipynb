{
  "nbformat": 4,
  "nbformat_minor": 0,
  "metadata": {
    "colab": {
      "provenance": [],
      "authorship_tag": "ABX9TyP6fRh6SfjkuYPNOiJdztoy",
      "include_colab_link": true
    },
    "kernelspec": {
      "name": "python3",
      "display_name": "Python 3"
    },
    "language_info": {
      "name": "python"
    }
  },
  "cells": [
    {
      "cell_type": "markdown",
      "metadata": {
        "id": "view-in-github",
        "colab_type": "text"
      },
      "source": [
        "<a href=\"https://colab.research.google.com/github/mohit-dubey66/Python-BootCamp-2023/blob/main/Day_2_Python_BootCamp_2023.ipynb\" target=\"_parent\"><img src=\"https://colab.research.google.com/assets/colab-badge.svg\" alt=\"Open In Colab\"/></a>"
      ]
    },
    {
      "cell_type": "markdown",
      "source": [
        "# **User Input**\n"
      ],
      "metadata": {
        "id": "_r-w5SI0w001"
      }
    },
    {
      "cell_type": "code",
      "source": [
        "#input()"
      ],
      "metadata": {
        "id": "kIhgCn0Qw7-c"
      },
      "execution_count": null,
      "outputs": []
    },
    {
      "cell_type": "markdown",
      "source": [
        "# **Type Conversion**"
      ],
      "metadata": {
        "id": "9NZkuIQ7w-7m"
      }
    },
    {
      "cell_type": "markdown",
      "source": [
        "1) Implicit Conversion: Python internally converts the data type."
      ],
      "metadata": {
        "id": "6-N9nZBtyC0r"
      }
    },
    {
      "cell_type": "code",
      "source": [
        "#print(5 + 5.6)\n",
        "#print(5 + '4')"
      ],
      "metadata": {
        "id": "DbepUAElyJpe"
      },
      "execution_count": null,
      "outputs": []
    },
    {
      "cell_type": "markdown",
      "source": [
        "2) Explicit Conversion: When programmer request to change the data type explicitly. There are some functions to explicitly change the data type: "
      ],
      "metadata": {
        "id": "FCCnGIJ7yfLN"
      }
    },
    {
      "cell_type": "code",
      "source": [
        "#String ----> int\n",
        "#int('4')\n",
        "\n",
        "\n",
        "#int ----> string\n",
        "\n",
        "\n",
        "#int ----> float"
      ],
      "metadata": {
        "id": "n6SF9Ty3yuM3"
      },
      "execution_count": null,
      "outputs": []
    },
    {
      "cell_type": "markdown",
      "source": [
        "**NOTE:** *While Type conversion, a new object is created of that instance/data and we work on new converted data.*"
      ],
      "metadata": {
        "id": "s4_nHLwjzH2P"
      }
    },
    {
      "cell_type": "markdown",
      "source": [
        "**PROGRAM:** *Program to add two numbers, take input from user.*"
      ],
      "metadata": {
        "id": "ehaJdC1mzbB3"
      }
    },
    {
      "cell_type": "code",
      "source": [],
      "metadata": {
        "id": "xK41FAGizlvL"
      },
      "execution_count": null,
      "outputs": []
    }
  ]
}