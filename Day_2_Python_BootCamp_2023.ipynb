{
  "nbformat": 4,
  "nbformat_minor": 0,
  "metadata": {
    "colab": {
      "provenance": [],
      "collapsed_sections": [
        "v-sd6swLcJd4"
      ],
      "authorship_tag": "ABX9TyMpIvBtOccKO19CzyOVuM6G",
      "include_colab_link": true
    },
    "kernelspec": {
      "name": "python3",
      "display_name": "Python 3"
    },
    "language_info": {
      "name": "python"
    }
  },
  "cells": [
    {
      "cell_type": "markdown",
      "metadata": {
        "id": "view-in-github",
        "colab_type": "text"
      },
      "source": [
        "<a href=\"https://colab.research.google.com/github/mohit-dubey66/Python-BootCamp-2023/blob/main/Day_2_Python_BootCamp_2023.ipynb\" target=\"_parent\"><img src=\"https://colab.research.google.com/assets/colab-badge.svg\" alt=\"Open In Colab\"/></a>"
      ]
    },
    {
      "cell_type": "markdown",
      "source": [
        "# **USER INPUT**\n",
        "\n",
        "\n",
        "*   \"input()\" function is used to take input from user.\n",
        "*   By default it takes input as a string because string is an universal data format. E.g., int can be converted into string, but vice-versa is not possible.\n",
        "\n"
      ],
      "metadata": {
        "id": "v-sd6swLcJd4"
      }
    },
    {
      "cell_type": "code",
      "source": [
        "# num = input()\n",
        "# print(type(num))\n",
        "# print(num)\n",
        "\n",
        "name = input(\"Enter your name: \")\n",
        "print(\"My name is: \",name)"
      ],
      "metadata": {
        "id": "pk4BKf7jcovR",
        "colab": {
          "base_uri": "https://localhost:8080/"
        },
        "outputId": "e4e496a7-a644-48df-df2a-8fcd970b12b4"
      },
      "execution_count": null,
      "outputs": [
        {
          "output_type": "stream",
          "name": "stdout",
          "text": [
            "Enter your name: mohit\n",
            "My name is:  mohit\n"
          ]
        }
      ]
    },
    {
      "cell_type": "markdown",
      "source": [
        "# **TYPE CONVERSION**\n",
        "1) Implicit type conversion: Python internally converts the data type. "
      ],
      "metadata": {
        "id": "wvSTI9Wlc3SK"
      }
    },
    {
      "cell_type": "code",
      "source": [
        "print(5 + 5.6)"
      ],
      "metadata": {
        "id": "Ssf0vW3FdLVB",
        "colab": {
          "base_uri": "https://localhost:8080/"
        },
        "outputId": "a4609384-9d76-48f6-d7bc-5c5d93ff3876"
      },
      "execution_count": null,
      "outputs": [
        {
          "output_type": "stream",
          "name": "stdout",
          "text": [
            "10.6\n"
          ]
        }
      ]
    },
    {
      "cell_type": "markdown",
      "source": [
        "However, implicit conversion not always works:"
      ],
      "metadata": {
        "id": "9cIl0m-GdP0d"
      }
    },
    {
      "cell_type": "code",
      "source": [
        "# print(5 + '4')"
      ],
      "metadata": {
        "id": "YvNOTgOodVC1"
      },
      "execution_count": null,
      "outputs": []
    },
    {
      "cell_type": "markdown",
      "source": [
        "2) Explicit Conversion: When programmer requests python to change the data type explicitly. There are some functions to explicitly change the data type."
      ],
      "metadata": {
        "id": "VFz5PVrpdZ8t"
      }
    },
    {
      "cell_type": "code",
      "source": [
        "#String ----> int\n",
        "# print(type(int('3')))\n",
        "\n",
        "\n",
        "#int ----> string\n",
        "print(type(str(4)))\n",
        "\n",
        "\n",
        "#int ----> float\n",
        "print(float(4))"
      ],
      "metadata": {
        "id": "gn7ZAENdd3XK",
        "colab": {
          "base_uri": "https://localhost:8080/"
        },
        "outputId": "2cc2ca09-0680-45f6-f7b0-b3c1b4f47d50"
      },
      "execution_count": null,
      "outputs": [
        {
          "output_type": "stream",
          "name": "stdout",
          "text": [
            "<class 'str'>\n",
            "4.0\n"
          ]
        }
      ]
    },
    {
      "cell_type": "markdown",
      "source": [
        "**NOTE:** *While Type conversion, a new object is created of that instance/data and we work on new converted data.*"
      ],
      "metadata": {
        "id": "VMKzCbJrd6Y7"
      }
    },
    {
      "cell_type": "markdown",
      "source": [
        "**PROGRAM:** *Program to add two numbers, take input from user.*"
      ],
      "metadata": {
        "id": "sWagsM_6d99l"
      }
    },
    {
      "cell_type": "code",
      "source": [
        "a = input(\"Enter 1st num: \")\n",
        "print(type(a))\n",
        "b = input(\"Enter 2nd num: \")\n",
        "print(type(a))\n",
        "result = int(a) + int(b)\n",
        "print(type(a))\n",
        "print(type(b))\n",
        "print()\n",
        "print(type(result))\n",
        "\n",
        "print(result)"
      ],
      "metadata": {
        "id": "0Hr5NnVheBuT",
        "colab": {
          "base_uri": "https://localhost:8080/"
        },
        "outputId": "58e8c93c-b85e-4d8e-ffc8-aac9b7055714"
      },
      "execution_count": null,
      "outputs": [
        {
          "output_type": "stream",
          "name": "stdout",
          "text": [
            "Enter 1st num: 3\n",
            "<class 'str'>\n",
            "Enter 2nd num: 8\n",
            "<class 'str'>\n",
            "<class 'str'>\n",
            "<class 'str'>\n",
            "\n",
            "<class 'int'>\n",
            "11\n"
          ]
        }
      ]
    },
    {
      "cell_type": "markdown",
      "source": [
        "# **OPERATORS IN PYTHON**\n",
        "1) Arithmetic Operators: (+, -, *, /, //, %, **)\n",
        "\n",
        "2) Relational Operators: (>, <, >=, <=, ==, !=)\n",
        "\n",
        "3) Logical Operators: (and, or, not)\n",
        "\n",
        "4) Bitwise Operators: (&, |, ^, ~, <<, >>)\n",
        "\n",
        "5) Assignment Operators: (=, +=, -=, *=, /=, %=, **=, &=, |=)\n",
        "\n",
        "6) Membership Operators: (in, not in)"
      ],
      "metadata": {
        "id": "-XAh9Ta_eE85"
      }
    },
    {
      "cell_type": "markdown",
      "source": [
        "1) Arithmetic Operators: (+, -, , /, //, %, *)"
      ],
      "metadata": {
        "id": "veYbUseDeJ5a"
      }
    },
    {
      "cell_type": "code",
      "source": [
        "# E.g.\n",
        "print(4+3)\n",
        "print(-4-3)\n",
        "print(4/3)\n",
        "print(4//3)\n",
        "print(4%3)\n",
        "print(4*2)"
      ],
      "metadata": {
        "id": "zmqwx-xneKiE",
        "colab": {
          "base_uri": "https://localhost:8080/"
        },
        "outputId": "e09ea5f2-21a3-4ce6-d039-2b45362217de"
      },
      "execution_count": null,
      "outputs": [
        {
          "output_type": "stream",
          "name": "stdout",
          "text": [
            "7\n",
            "-7\n",
            "1.3333333333333333\n",
            "1\n",
            "1\n",
            "8\n"
          ]
        }
      ]
    },
    {
      "cell_type": "markdown",
      "source": [
        "2) Relational Operators: (>, <, >=, <=, ==, !=)"
      ],
      "metadata": {
        "id": "FYLcuJExeRTt"
      }
    },
    {
      "cell_type": "code",
      "source": [
        "# E.g.\n",
        "print(4>3)\n",
        "print(4 < 3)\n",
        "print(4 >= 3)\n",
        "print(4 == 3)"
      ],
      "metadata": {
        "id": "qQBzFzU2eT0S",
        "colab": {
          "base_uri": "https://localhost:8080/"
        },
        "outputId": "0d05c5e1-a050-4c15-cc2c-c563265deff6"
      },
      "execution_count": null,
      "outputs": [
        {
          "output_type": "stream",
          "name": "stdout",
          "text": [
            "True\n",
            "False\n",
            "True\n",
            "False\n"
          ]
        }
      ]
    },
    {
      "cell_type": "markdown",
      "source": [
        "3) Logical Operators: (and, or, not)"
      ],
      "metadata": {
        "id": "zcscrDfKea8q"
      }
    },
    {
      "cell_type": "code",
      "source": [
        "# 1) and = returns true if both statements are true\n",
        "print(1 and 1)\n",
        "\n",
        "# 2) or = returns True if one of the statements is true\n",
        "print(1 or 0)\n",
        "\n",
        "# 3) not = reverse the result, returns False if the result is true\n",
        "print(not 7)"
      ],
      "metadata": {
        "id": "FhxgFa1Seevd",
        "colab": {
          "base_uri": "https://localhost:8080/"
        },
        "outputId": "42f7bc6f-d367-47ee-cd67-1c1936215738"
      },
      "execution_count": null,
      "outputs": [
        {
          "output_type": "stream",
          "name": "stdout",
          "text": [
            "1\n",
            "1\n",
            "False\n"
          ]
        }
      ]
    },
    {
      "cell_type": "markdown",
      "source": [
        "4) Bitwise Operators: (&, |, ^, ~, <<, >>)"
      ],
      "metadata": {
        "id": "lb-4Fkauemkd"
      }
    },
    {
      "cell_type": "code",
      "source": [],
      "metadata": {
        "id": "BeqNvhyNeqt-"
      },
      "execution_count": null,
      "outputs": []
    },
    {
      "cell_type": "markdown",
      "source": [
        "5) Assignment Operators: (=, +=, -=, *=, /=, %=, **=, &=, |=)\n"
      ],
      "metadata": {
        "id": "S7YekHx4euz8"
      }
    },
    {
      "cell_type": "code",
      "source": [
        "# E.g.\n",
        "a = 4\n",
        "a += 4 # a = a + 4\n",
        "print(a)"
      ],
      "metadata": {
        "id": "LJcNEYWoe6-j",
        "colab": {
          "base_uri": "https://localhost:8080/"
        },
        "outputId": "f7500505-31b7-417b-d70f-b9d0d8c74b6d"
      },
      "execution_count": null,
      "outputs": [
        {
          "output_type": "stream",
          "name": "stdout",
          "text": [
            "8\n"
          ]
        }
      ]
    },
    {
      "cell_type": "markdown",
      "source": [
        "6) Membership Operators: (in, not in)"
      ],
      "metadata": {
        "id": "ni-uJ5pXfNhy"
      }
    },
    {
      "cell_type": "code",
      "source": [
        "# E.g.\n",
        "print(1 in [1,2,3])\n",
        "print(1 not in [1,2,3])\n",
        "print('a' not in 'python')"
      ],
      "metadata": {
        "id": "vGHST_9OfPbH",
        "colab": {
          "base_uri": "https://localhost:8080/"
        },
        "outputId": "630b3f24-45d8-4277-8384-2f9c4dccb20a"
      },
      "execution_count": null,
      "outputs": [
        {
          "output_type": "stream",
          "name": "stdout",
          "text": [
            "True\n",
            "False\n",
            "True\n"
          ]
        }
      ]
    },
    {
      "cell_type": "markdown",
      "source": [
        "**PROGRAM:** Find the sum of a 3-digit number entered by the user? "
      ],
      "metadata": {
        "id": "SPjm1eE9ig8Z"
      }
    },
    {
      "cell_type": "code",
      "source": [
        "# 123 = 1+2+3 = 6\n",
        "a=int(input(\"enter a:\"))\n",
        "\n",
        "m = a%10\n",
        "\n",
        "p = a//10\n",
        "\n",
        "r = p%10\n",
        "\n",
        "o = p//10\n",
        "\n",
        "print(o+r+m)\n"
      ],
      "metadata": {
        "colab": {
          "base_uri": "https://localhost:8080/"
        },
        "id": "BOTb1xGZNaLh",
        "outputId": "b74f0497-40ad-41de-cc9e-0d5c2ee81074"
      },
      "execution_count": null,
      "outputs": [
        {
          "output_type": "stream",
          "name": "stdout",
          "text": [
            "enter a:123\n",
            "6\n"
          ]
        }
      ]
    },
    {
      "cell_type": "code",
      "source": [],
      "metadata": {
        "id": "P_fAE5pcWNJt"
      },
      "execution_count": null,
      "outputs": []
    },
    {
      "cell_type": "markdown",
      "source": [
        "# **CONDITIONAL STATEMENTS**\n",
        "If-Else is used to code for branching of code at a certain point of code execution.\n",
        "\n",
        "1) PROGRAM: Login system.\n",
        "\n",
        "2) PROGRAM: Little advance login system.\n",
        "\n",
        "3) PROGRAM: Find minimum of 3 numbers.\n",
        "\n",
        "4) PROGRAM: Menu driven calculator.(HW)"
      ],
      "metadata": {
        "id": "_GFsPnbXjgKk"
      }
    },
    {
      "cell_type": "code",
      "source": [
        "found_on_1 = False\n",
        "found_on_2 = False\n",
        "found_on_3 = False\n",
        "found_on_4 = False\n",
        "found_on_5 = True\n",
        "\n",
        "\n",
        "if found_on_1:\n",
        "    print(True)\n",
        "elif found_on_2:\n",
        "    print(True)\n",
        "elif found_on_3:\n",
        "    print(True)\n",
        "elif found_on_4:\n",
        "    print(True)\n",
        "else:\n",
        "    print(True)"
      ],
      "metadata": {
        "colab": {
          "base_uri": "https://localhost:8080/"
        },
        "id": "9im9lHXDY2An",
        "outputId": "ac89bfe5-51b0-4886-b348-c68b191ac633"
      },
      "execution_count": null,
      "outputs": [
        {
          "output_type": "stream",
          "name": "stdout",
          "text": [
            "True\n"
          ]
        }
      ]
    },
    {
      "cell_type": "code",
      "source": [
        "#login system\n",
        "\n",
        "username = 'python'\n",
        "password = 12345\n",
        "\n",
        "user_input = input(\"Enter your username: \")\n",
        "pas_input = int(input(\"Enter your password: \"))\n",
        "\n",
        "if user_input == username and pas_input == password:\n",
        "    print(\"Welcome, to the LEPSES!\")\n",
        "\n",
        "elif user_input == username or pas_input != password:\n",
        "    print(\"wrong password, re enter it\")\n",
        "    pas_input = int(input(\"Enter your password again: \"))\n",
        "    if pas_input == password:\n",
        "        print(\"Welcome to the LEPSES\")\n",
        "\n",
        "elif user_input != username or pas_input == password:\n",
        "    print(\"wrong username, re enter it\")\n",
        "    user_input = input(\"Enter your username again: \")\n",
        "    if user_input == username:\n",
        "        print(\"Welcome to the LEPSES\")\n",
        "\n",
        "else:\n",
        "    print(\"Get lost!\")"
      ],
      "metadata": {
        "colab": {
          "base_uri": "https://localhost:8080/"
        },
        "id": "wgPLGJrib3yn",
        "outputId": "91888f5f-0393-4917-96e4-c1609f01ef7b"
      },
      "execution_count": null,
      "outputs": [
        {
          "output_type": "stream",
          "name": "stdout",
          "text": [
            "Enter your username: python\n",
            "Enter your password: 123\n",
            "wrong password, re enter it\n",
            "Enter your password again: 12345\n",
            "Welcome to the LEPSES\n"
          ]
        }
      ]
    },
    {
      "cell_type": "code",
      "source": [
        "a = int(input())\n",
        "b = int(input())\n",
        "c = int(input())\n",
        "\n",
        "if a < b and a < c:\n",
        "    print(a,\"is smaller number.\")\n",
        "\n",
        "elif b < a and b < c:\n",
        "    print(b,\"is smaller number.\")\n",
        "\n",
        "else:\n",
        "    print(c,\"is smaller number.\")\n"
      ],
      "metadata": {
        "colab": {
          "base_uri": "https://localhost:8080/"
        },
        "id": "nbUzNwC_gYFu",
        "outputId": "44e093dc-6dbd-4e28-b8ab-afd7cb234ed2"
      },
      "execution_count": null,
      "outputs": [
        {
          "output_type": "stream",
          "name": "stdout",
          "text": [
            "2\n",
            "7\n",
            "1\n",
            "1 is smaller number.\n"
          ]
        }
      ]
    }
  ]
}