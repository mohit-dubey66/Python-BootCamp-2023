{
  "nbformat": 4,
  "nbformat_minor": 0,
  "metadata": {
    "colab": {
      "provenance": [],
      "authorship_tag": "ABX9TyNMTnlzdqJgc4OGZEQ8JXO3",
      "include_colab_link": true
    },
    "kernelspec": {
      "name": "python3",
      "display_name": "Python 3"
    },
    "language_info": {
      "name": "python"
    }
  },
  "cells": [
    {
      "cell_type": "markdown",
      "metadata": {
        "id": "view-in-github",
        "colab_type": "text"
      },
      "source": [
        "<a href=\"https://colab.research.google.com/github/mohit-dubey66/Python-BootCamp-2023/blob/main/Day_2_Python_BootCamp_2023.ipynb\" target=\"_parent\"><img src=\"https://colab.research.google.com/assets/colab-badge.svg\" alt=\"Open In Colab\"/></a>"
      ]
    },
    {
      "cell_type": "markdown",
      "source": [
        "# **User Input**\n"
      ],
      "metadata": {
        "id": "_r-w5SI0w001"
      }
    },
    {
      "cell_type": "code",
      "source": [
        "#input()"
      ],
      "metadata": {
        "id": "kIhgCn0Qw7-c"
      },
      "execution_count": null,
      "outputs": []
    },
    {
      "cell_type": "markdown",
      "source": [
        "# **Type Conversion**"
      ],
      "metadata": {
        "id": "9NZkuIQ7w-7m"
      }
    },
    {
      "cell_type": "markdown",
      "source": [
        "1) Implicit Conversion: Python internally converts the data type."
      ],
      "metadata": {
        "id": "6-N9nZBtyC0r"
      }
    },
    {
      "cell_type": "code",
      "source": [
        "#print(5 + 5.6)\n",
        "#print(5 + '4')"
      ],
      "metadata": {
        "id": "DbepUAElyJpe"
      },
      "execution_count": null,
      "outputs": []
    },
    {
      "cell_type": "markdown",
      "source": [
        "2) Explicit Conversion: When programmer request to change the data type explicitly. There are some functions to explicitly change the data type: "
      ],
      "metadata": {
        "id": "FCCnGIJ7yfLN"
      }
    },
    {
      "cell_type": "code",
      "source": [
        "#String ----> int\n",
        "#int('4')\n",
        "\n",
        "\n",
        "#int ----> string\n",
        "\n",
        "\n",
        "#int ----> float"
      ],
      "metadata": {
        "id": "n6SF9Ty3yuM3"
      },
      "execution_count": null,
      "outputs": []
    },
    {
      "cell_type": "markdown",
      "source": [
        "**NOTE:** *While Type conversion, a new object is created of that instance/data and we work on new converted data.*"
      ],
      "metadata": {
        "id": "s4_nHLwjzH2P"
      }
    },
    {
      "cell_type": "markdown",
      "source": [
        "**PROGRAM:** *Program to add two numbers, take input from user.*"
      ],
      "metadata": {
        "id": "ehaJdC1mzbB3"
      }
    },
    {
      "cell_type": "markdown",
      "source": [
        "# **OPERATORS IN PYTHON**\n",
        "1) Arithmetic Operators: (+, -, *, /, //, %, **)\n",
        "\n",
        "2) Relational Operators: (>, <, >=, <=, ==, !=)\n",
        "\n",
        "3) Logical Operators: (and, or, not)\n",
        "\n",
        "4) Bitwise Operators: (&, |, ^, ~, <<, >>)\n",
        "\n",
        "5) Assignment Operators: (=, +=, -=, *=, /=, %=, **=, &=, |=)\n",
        "\n",
        "6) Membership Operators: (in, not in)"
      ],
      "metadata": {
        "id": "1B5LwfDR2mOh"
      }
    },
    {
      "cell_type": "markdown",
      "source": [
        "1) Arithmetic Operators: (+, -, , /, //, %, *)"
      ],
      "metadata": {
        "id": "ldf3N8BA29Lh"
      }
    },
    {
      "cell_type": "code",
      "source": [
        "# print(5 + 6)\n",
        "# print(5 - 6)\n",
        "# print(5 / 2)\n",
        "# print(5 * 2)\n",
        "# print(5 // 2)\n",
        "# print(5 % 2)\n",
        "# print(5 ** 2)"
      ],
      "metadata": {
        "id": "FMRn0GHE3Q1t"
      },
      "execution_count": null,
      "outputs": []
    },
    {
      "cell_type": "markdown",
      "source": [
        "2) Relational Operators: (>, <, >=, <=, ==, !=)"
      ],
      "metadata": {
        "id": "Q0DArcbC3qzT"
      }
    },
    {
      "cell_type": "code",
      "source": [
        "# print(4 > 5)\n",
        "# print(4 < 5)\n",
        "# print(4 >= 4)\n",
        "# print(4 <= 4)\n",
        "# print(4 != 4)\n",
        "# print(4 == 4)"
      ],
      "metadata": {
        "id": "eG3ENWPD3tVq"
      },
      "execution_count": null,
      "outputs": []
    },
    {
      "cell_type": "markdown",
      "source": [
        "3) Logical Operators: (and, or, not)"
      ],
      "metadata": {
        "id": "E6e6JI3j3-5_"
      }
    },
    {
      "cell_type": "code",
      "source": [
        "# 1) and = returns true if both statements are true\n",
        "# print(1 and 0)\n",
        "\n",
        "# 2) or = returns True if one of the statements is true\n",
        "# print(1 or 0)\n",
        "\n",
        "# 3) not = reverse the result, returns False if the result is true\n",
        "# print(not 1)"
      ],
      "metadata": {
        "id": "-vtqXU7G4CfO"
      },
      "execution_count": 2,
      "outputs": []
    },
    {
      "cell_type": "markdown",
      "source": [
        "4) Bitwise Operators: (&, |, ^, ~, <<, >>)"
      ],
      "metadata": {
        "id": "c0ZCtw_O5iNL"
      }
    },
    {
      "cell_type": "code",
      "source": [],
      "metadata": {
        "id": "mTVjDqqv5jZB"
      },
      "execution_count": null,
      "outputs": []
    }
  ]
}