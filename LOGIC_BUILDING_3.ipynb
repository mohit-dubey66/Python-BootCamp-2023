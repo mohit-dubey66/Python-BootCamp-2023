{
  "nbformat": 4,
  "nbformat_minor": 0,
  "metadata": {
    "colab": {
      "provenance": [],
      "authorship_tag": "ABX9TyOWL187F/tgAsXWCbdK7Pke",
      "include_colab_link": true
    },
    "kernelspec": {
      "name": "python3",
      "display_name": "Python 3"
    },
    "language_info": {
      "name": "python"
    }
  },
  "cells": [
    {
      "cell_type": "markdown",
      "metadata": {
        "id": "view-in-github",
        "colab_type": "text"
      },
      "source": [
        "<a href=\"https://colab.research.google.com/github/mohit-dubey66/Python-BootCamp-2023/blob/main/LOGIC_BUILDING_3.ipynb\" target=\"_parent\"><img src=\"https://colab.research.google.com/assets/colab-badge.svg\" alt=\"Open In Colab\"/></a>"
      ]
    },
    {
      "cell_type": "markdown",
      "source": [
        "Q.1) You are given a string allowed consisting of distinct characters and an array of strings words. A string is consistent if all characters in the string appear in the string allowed.\n",
        "\n",
        "Return the number of consistent strings in the array words."
      ],
      "metadata": {
        "id": "MnXr87QnMTvC"
      }
    },
    {
      "cell_type": "code",
      "source": [
        "st = 'Python'\n",
        "'ty' in st"
      ],
      "metadata": {
        "colab": {
          "base_uri": "https://localhost:8080/"
        },
        "id": "5ZiTHUoNhCqH",
        "outputId": "4dcb2c44-1821-4df2-caed-5869fc08575b"
      },
      "execution_count": 5,
      "outputs": [
        {
          "output_type": "execute_result",
          "data": {
            "text/plain": [
              "False"
            ]
          },
          "metadata": {},
          "execution_count": 5
        }
      ]
    },
    {
      "cell_type": "markdown",
      "source": [
        "Example 1:\n",
        "\n",
        "**Input:**\n",
        "\n",
        "allowed = \"ab\"\n",
        "words = [\"ad\",\"bd\",\"aaab\",\"baa\",\"badab\"]\n",
        "\n",
        "Output: 2\n",
        "\n",
        "Explanation: Strings \"aaab\" and \"baa\" are consistent since they only contain characters 'a' and 'b'.\n",
        "\n",
        "Example 2:\n",
        "\n",
        "**Input:**\n",
        "\n",
        "allowed = \"abc\"\n",
        "\n",
        "words = [\"a\",\"b\",\"c\",\"ab\",\"ac\",\"bc\",\"abc\"]\n",
        "\n",
        "Output: 7\n",
        "\n",
        "Explanation: All strings are consistent."
      ],
      "metadata": {
        "id": "wt4ZObs8M4Tu"
      }
    },
    {
      "cell_type": "code",
      "source": [
        "allowed = \"abc\"\n",
        "\n",
        "words = [\"a\",\"b\",\"cd\",\"ab\",\"ac\",\"bc\",\"abc\"]\n",
        "\n",
        "count = 0\n",
        "\n",
        "for word in words:\n",
        "    for char in word:\n",
        "        if char not in allowed:\n",
        "            count += 1\n",
        "            break\n",
        "        else:\n",
        "            continue\n",
        "\n",
        "print(len(words) - count)\n"
      ],
      "metadata": {
        "colab": {
          "base_uri": "https://localhost:8080/"
        },
        "id": "mkB4sW0NNkea",
        "outputId": "71fa6ec0-5635-43d1-84c1-e0b77be8fdb1"
      },
      "execution_count": 9,
      "outputs": [
        {
          "output_type": "stream",
          "name": "stdout",
          "text": [
            "6\n"
          ]
        }
      ]
    }
  ]
}