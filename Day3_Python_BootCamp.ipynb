{
  "nbformat": 4,
  "nbformat_minor": 0,
  "metadata": {
    "colab": {
      "provenance": [],
      "authorship_tag": "ABX9TyP5sGb4POqhPIk6sLGRQisL",
      "include_colab_link": true
    },
    "kernelspec": {
      "name": "python3",
      "display_name": "Python 3"
    },
    "language_info": {
      "name": "python"
    }
  },
  "cells": [
    {
      "cell_type": "markdown",
      "metadata": {
        "id": "view-in-github",
        "colab_type": "text"
      },
      "source": [
        "<a href=\"https://colab.research.google.com/github/mohit-dubey66/Python-BootCamp-2023/blob/main/Day3_Python_BootCamp.ipynb\" target=\"_parent\"><img src=\"https://colab.research.google.com/assets/colab-badge.svg\" alt=\"Open In Colab\"/></a>"
      ]
    },
    {
      "cell_type": "markdown",
      "source": [
        "# **MODULES IN PYTHON**\n",
        "It is same as code library. A file containing a set of function you want to include in your application."
      ],
      "metadata": {
        "id": "NOkWqLUfryoX"
      }
    },
    {
      "cell_type": "code",
      "source": [
        "# 1) MATH Module\n",
        "\n",
        "# ---> importing modules - importing all functions, importing all functions as alias, importing specific method\n",
        "\n",
        "# ---> How to use any method?"
      ],
      "metadata": {
        "id": "awTs2eipr5DY"
      },
      "execution_count": null,
      "outputs": []
    },
    {
      "cell_type": "code",
      "source": [],
      "metadata": {
        "id": "atdmQru_IIXw"
      },
      "execution_count": null,
      "outputs": []
    },
    {
      "cell_type": "code",
      "source": [
        "# 2) RANDOM Module\n",
        "\n",
        "# i)   Creating random integers: randint(start, end)\n",
        "# ii)  Creating random floating numbers: random()\n",
        "# iii) Selecting random elements: choice(sequence)\n",
        "# iv)  Shuffling a sequence: shuffle(sequence)"
      ],
      "metadata": {
        "id": "F3oRh2Y6r6tT"
      },
      "execution_count": null,
      "outputs": []
    },
    {
      "cell_type": "markdown",
      "source": [
        "# **LOOPS IN PYTHON**\n",
        "\n"
      ],
      "metadata": {
        "id": "X2jNwPVCr-ep"
      }
    },
    {
      "cell_type": "markdown",
      "source": [
        "**1) WHILE LOOP**"
      ],
      "metadata": {
        "id": "ud1hbRNlGy2O"
      }
    },
    {
      "cell_type": "markdown",
      "source": [
        "Q.1) Program to print table of any number."
      ],
      "metadata": {
        "id": "C93N741A4Qi4"
      }
    },
    {
      "cell_type": "code",
      "source": [
        "num = int(input(\"ENter a number: \"))\n",
        "\n",
        "i = 1\n",
        "while i < 11:\n",
        "    print(num*i)\n",
        "    i += 1"
      ],
      "metadata": {
        "id": "Ck6rRb-d4Tql",
        "colab": {
          "base_uri": "https://localhost:8080/"
        },
        "outputId": "b542ce68-7581-4724-fbec-a35bdf6856cb"
      },
      "execution_count": null,
      "outputs": [
        {
          "output_type": "stream",
          "name": "stdout",
          "text": [
            "ENter a number: 5\n",
            "5\n",
            "10\n",
            "15\n",
            "20\n",
            "25\n",
            "30\n",
            "35\n",
            "40\n",
            "45\n",
            "50\n"
          ]
        }
      ]
    },
    {
      "cell_type": "markdown",
      "source": [
        "break and continue statements examples."
      ],
      "metadata": {
        "id": "L5J1w4Lx8DdH"
      }
    },
    {
      "cell_type": "code",
      "source": [
        "# Example.1\n",
        "\n",
        "n = 5\n",
        "while n > 0:\n",
        "    \n",
        "    if n == 2:\n",
        "        break\n",
        "    n -= 1\n",
        "    print(n)\n",
        "print(\"Loop ended!\")"
      ],
      "metadata": {
        "id": "0mNlHZeY8HU8",
        "colab": {
          "base_uri": "https://localhost:8080/"
        },
        "outputId": "3da515c6-e80a-4975-f429-5f797aa6f728"
      },
      "execution_count": null,
      "outputs": [
        {
          "output_type": "stream",
          "name": "stdout",
          "text": [
            "4\n",
            "3\n",
            "2\n",
            "Loop ended!\n"
          ]
        }
      ]
    },
    {
      "cell_type": "code",
      "source": [
        "#Example.2\n",
        "\n",
        "n = 5\n",
        "while n > 0:\n",
        "    \n",
        "    if n == 2:\n",
        "        continue\n",
        "    n -= 1\n",
        "    print(n)\n",
        "print(\"Loop ended!\")"
      ],
      "metadata": {
        "id": "i88v6QZp-Nlf",
        "colab": {
          "base_uri": "https://localhost:8080/",
          "height": 296
        },
        "outputId": "f7d0cfc2-595c-4a25-a1c5-e0cb8edaba26"
      },
      "execution_count": null,
      "outputs": [
        {
          "output_type": "stream",
          "name": "stdout",
          "text": [
            "4\n",
            "3\n",
            "2\n"
          ]
        },
        {
          "output_type": "error",
          "ename": "KeyboardInterrupt",
          "evalue": "ignored",
          "traceback": [
            "\u001b[0;31m---------------------------------------------------------------------------\u001b[0m",
            "\u001b[0;31mKeyboardInterrupt\u001b[0m                         Traceback (most recent call last)",
            "\u001b[0;32m<ipython-input-8-a7243cec210a>\u001b[0m in \u001b[0;36m<module>\u001b[0;34m\u001b[0m\n\u001b[1;32m      4\u001b[0m \u001b[0;32mwhile\u001b[0m \u001b[0mn\u001b[0m \u001b[0;34m>\u001b[0m \u001b[0;36m0\u001b[0m\u001b[0;34m:\u001b[0m\u001b[0;34m\u001b[0m\u001b[0;34m\u001b[0m\u001b[0m\n\u001b[1;32m      5\u001b[0m \u001b[0;34m\u001b[0m\u001b[0m\n\u001b[0;32m----> 6\u001b[0;31m     \u001b[0;32mif\u001b[0m \u001b[0mn\u001b[0m \u001b[0;34m==\u001b[0m \u001b[0;36m2\u001b[0m\u001b[0;34m:\u001b[0m\u001b[0;34m\u001b[0m\u001b[0;34m\u001b[0m\u001b[0m\n\u001b[0m\u001b[1;32m      7\u001b[0m         \u001b[0;32mcontinue\u001b[0m\u001b[0;34m\u001b[0m\u001b[0;34m\u001b[0m\u001b[0m\n\u001b[1;32m      8\u001b[0m     \u001b[0mn\u001b[0m \u001b[0;34m-=\u001b[0m \u001b[0;36m1\u001b[0m\u001b[0;34m\u001b[0m\u001b[0;34m\u001b[0m\u001b[0m\n",
            "\u001b[0;31mKeyboardInterrupt\u001b[0m: "
          ]
        }
      ]
    },
    {
      "cell_type": "markdown",
      "source": [
        "The Loop Else clause in WHILE"
      ],
      "metadata": {
        "id": "uuFhA2UPAbjA"
      }
    },
    {
      "cell_type": "code",
      "source": [
        "# Example.1\n",
        "n = 5\n",
        "while n > 0:\n",
        "    n -= 1\n",
        "    print(n)\n",
        "else:\n",
        "    print('Loop done!')"
      ],
      "metadata": {
        "id": "PYi2rao5DKwu"
      },
      "execution_count": null,
      "outputs": []
    },
    {
      "cell_type": "code",
      "source": [
        "# Example.2\n",
        "n = 5\n",
        "while n > 0:\n",
        "    n -= 1\n",
        "    print(n)\n",
        "    if n == 2:\n",
        "        break\n",
        "else:\n",
        "    print(\"Loop Done!\")"
      ],
      "metadata": {
        "id": "bqrWxrsuDW96"
      },
      "execution_count": null,
      "outputs": []
    },
    {
      "cell_type": "code",
      "source": [
        "# Example.3\n",
        "\n",
        "a = ['foo', 'bar', 'baz', 'qux']\n",
        "s = 'corge'\n",
        "i = 0\n",
        "while i < len(a):\n",
        "    if a[i] == s:\n",
        "        #processing for item found\n",
        "        break\n",
        "    i += 1\n",
        "else:\n",
        "    #processing for item not found\n",
        "    print(s, 'not found in the list.')"
      ],
      "metadata": {
        "id": "Z4kGxKFkE0Ck"
      },
      "execution_count": null,
      "outputs": []
    },
    {
      "cell_type": "markdown",
      "source": [
        "**INFNITE WHILE LOOP**"
      ],
      "metadata": {
        "id": "uR-QW6f8FaUy"
      }
    },
    {
      "cell_type": "code",
      "source": [
        "# Example.1\n",
        "\n",
        "while True:\n",
        "    print(True)"
      ],
      "metadata": {
        "id": "dhBsk-UJFeep"
      },
      "execution_count": null,
      "outputs": []
    },
    {
      "cell_type": "code",
      "source": [
        "# Example.2\n",
        "\n",
        "i=1\n",
        "while i<=5:\n",
        "    j=1\n",
        "    while j<=i:\n",
        "        print(j,end=\" \")\n",
        "        j=j+1\n",
        "    print(\"\")\n",
        "    i=i+1"
      ],
      "metadata": {
        "id": "dwqFlNp_FmBD"
      },
      "execution_count": null,
      "outputs": []
    },
    {
      "cell_type": "markdown",
      "source": [
        "**2) FOR LOOP**"
      ],
      "metadata": {
        "id": "XfmtfO4PGYdY"
      }
    },
    {
      "cell_type": "markdown",
      "source": [
        "i) ITEARABLES - iter() method"
      ],
      "metadata": {
        "id": "eJ0CucmTK0Vu"
      }
    },
    {
      "cell_type": "code",
      "source": [],
      "metadata": {
        "id": "HEldYhXCK6Fn"
      },
      "execution_count": null,
      "outputs": []
    },
    {
      "cell_type": "markdown",
      "source": [
        "ii) Iterator - next() method"
      ],
      "metadata": {
        "id": "E406MqJILzau"
      }
    },
    {
      "cell_type": "code",
      "source": [
        "a = 'foobar'\n",
        "itr = iter(a)\n",
        "print(itr)\n",
        "print(next(itr))\n",
        "print(next(itr))"
      ],
      "metadata": {
        "id": "LBBRsYzsL2qt"
      },
      "execution_count": null,
      "outputs": []
    },
    {
      "cell_type": "markdown",
      "source": [
        "Behind the scenes of FOR loop."
      ],
      "metadata": {
        "id": "FRIu49VqMf1I"
      }
    },
    {
      "cell_type": "code",
      "source": [
        "# Example\n",
        "\n",
        "a = ['foo', 'bar', 'baz']\n",
        "\n",
        "for i in a:\n",
        "    print(i)"
      ],
      "metadata": {
        "id": "ZUTKLGOiPVvM"
      },
      "execution_count": null,
      "outputs": []
    },
    {
      "cell_type": "markdown",
      "source": [
        "**The range() function**"
      ],
      "metadata": {
        "id": "RCx-fyM9Pr1F"
      }
    },
    {
      "cell_type": "code",
      "source": [
        "# To iterate through the values from 0 to 4, just do this:\n",
        "\n",
        "for i in (0,1,2,3,4):\n",
        "    print(i)"
      ],
      "metadata": {
        "id": "O6j845QKQHVZ"
      },
      "execution_count": null,
      "outputs": []
    },
    {
      "cell_type": "code",
      "source": [
        "# Syntaxes:\n",
        "\n",
        "# 1) range(<end>)\n",
        "\n",
        "\n",
        "# 2) range(start, stop)\n",
        "\n",
        "\n",
        "# 3) range(start, stop, skip)"
      ],
      "metadata": {
        "id": "nVajv6FNR11r"
      },
      "execution_count": null,
      "outputs": []
    },
    {
      "cell_type": "code",
      "source": [
        "# To access values of range()\n",
        "\n",
        "x = range(0,5)\n",
        "for i in x:\n",
        "    print(i)"
      ],
      "metadata": {
        "id": "cyodVSFtSHzj"
      },
      "execution_count": null,
      "outputs": []
    },
    {
      "cell_type": "markdown",
      "source": [
        "**break & continue statement in FOR loop**"
      ],
      "metadata": {
        "id": "pUNxuF66SkO_"
      }
    },
    {
      "cell_type": "code",
      "source": [
        "# Example.1\n",
        "\n",
        "for a in ['foo', 'bar', 'baz', 'qux']:\n",
        "    if 'b' in a:\n",
        "        break\n",
        "    print(a)"
      ],
      "metadata": {
        "id": "qi8py1m8Sqtk"
      },
      "execution_count": null,
      "outputs": []
    },
    {
      "cell_type": "code",
      "source": [
        "# Example.2\n",
        "\n",
        "for a in ['foo', 'bar', 'baz', 'qux']:\n",
        "    if 'b' in a:\n",
        "        continue\n",
        "    print(a)"
      ],
      "metadata": {
        "id": "Hksh1pOITGJH"
      },
      "execution_count": null,
      "outputs": []
    },
    {
      "cell_type": "markdown",
      "source": [
        "The loop-else in FOR"
      ],
      "metadata": {
        "id": "RoONVDDkCyv0"
      }
    },
    {
      "cell_type": "code",
      "source": [
        "# Example.1\n",
        "\n",
        "for i in ['foo', 'bar', 'baz', 'qux']:\n",
        "    print(i)\n",
        "else:\n",
        "    print('Loop Done!')"
      ],
      "metadata": {
        "id": "ZbbckiBoC1YO"
      },
      "execution_count": null,
      "outputs": []
    },
    {
      "cell_type": "code",
      "source": [
        "# Example.2\n",
        "\n",
        "for i in ['foo', 'bar', 'baz', 'qux']:\n",
        "    if i == 'bar':\n",
        "        break\n",
        "    print(i)\n",
        "else:\n",
        "    print('Loop Done!')"
      ],
      "metadata": {
        "id": "98RRMDlIEWl8"
      },
      "execution_count": null,
      "outputs": []
    }
  ]
}