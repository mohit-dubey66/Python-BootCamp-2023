{
  "nbformat": 4,
  "nbformat_minor": 0,
  "metadata": {
    "colab": {
      "provenance": [],
      "authorship_tag": "ABX9TyPx2bOpTI7gT725ySw0bQD0",
      "include_colab_link": true
    },
    "kernelspec": {
      "name": "python3",
      "display_name": "Python 3"
    },
    "language_info": {
      "name": "python"
    }
  },
  "cells": [
    {
      "cell_type": "markdown",
      "metadata": {
        "id": "view-in-github",
        "colab_type": "text"
      },
      "source": [
        "<a href=\"https://colab.research.google.com/github/mohit-dubey66/Python-BootCamp-2023/blob/main/Day10_OOP_%7C_PB_2023.ipynb\" target=\"_parent\"><img src=\"https://colab.research.google.com/assets/colab-badge.svg\" alt=\"Open In Colab\"/></a>"
      ]
    },
    {
      "cell_type": "markdown",
      "source": [
        "# **OBJECT ORIENTED PROGRAMMING**"
      ],
      "metadata": {
        "id": "SEPizZOXFUp1"
      }
    },
    {
      "cell_type": "markdown",
      "source": [
        "* OOP stands for Object Oriented Programming, that provides a means of structuring programs so that properties and behaviours are bundled into individual objects.\n",
        "\n",
        "* An object can represent a person with properties like a name, age and addresses and behaviours such as walking, talking, breathing, running, etc.\n",
        "\n",
        "* List, Tuples, Strings, etc. are objects in Python.\n",
        "\n",
        "* Class is a logical entity while object is physical entity. A class does not allocate memory space while an object does.\n"
      ],
      "metadata": {
        "id": "WcyvLEBOFZDV"
      }
    },
    {
      "cell_type": "markdown",
      "source": [
        "**CLASS vs OBJECT**"
      ],
      "metadata": {
        "id": "JAQkGbugKOjc"
      }
    },
    {
      "cell_type": "markdown",
      "source": [
        "* CLass: A Class is like an object constructor, or a \"blueprint\" for creating objects.\n",
        "\n",
        "* Objects: It is a self contained component that consists of methods and properties to make a data useful. It helps you to determine the behaviour of the class."
      ],
      "metadata": {
        "id": "J5xywNfdKUXu"
      }
    },
    {
      "cell_type": "code",
      "source": [
        "# Creating a class\n",
        "class Animal:\n",
        "    legs = 4\n",
        "    eyes = 2"
      ],
      "metadata": {
        "id": "p2bq53KdK2BC"
      },
      "execution_count": null,
      "outputs": []
    },
    {
      "cell_type": "code",
      "source": [
        "# Instantiating an object\n",
        "dog = Animal()"
      ],
      "metadata": {
        "id": "Dxo-udy6MOCe"
      },
      "execution_count": null,
      "outputs": []
    },
    {
      "cell_type": "code",
      "source": [
        "name = 'Virat'\n",
        "print(f\" {name} is a good boy.\")"
      ],
      "metadata": {
        "colab": {
          "base_uri": "https://localhost:8080/"
        },
        "id": "3zKDZxeIoXei",
        "outputId": "6e2a6d6b-f36a-4809-8952-c283e6d2024b"
      },
      "execution_count": 4,
      "outputs": [
        {
          "output_type": "stream",
          "name": "stdout",
          "text": [
            " Virat is a good boy.\n"
          ]
        }
      ]
    },
    {
      "cell_type": "code",
      "source": [
        "# Example.1\n",
        "\n",
        "class Parrot:\n",
        "\n",
        "    # class attribute\n",
        "    name = \"\"\n",
        "    age = 0\n",
        "\n",
        "# create parrot1 object\n",
        "parrot1.name = \"Mitthu\"\n",
        "parrot1.age = 40\n",
        "parrot1 = Parrot()\n",
        "\n",
        "# create another object parrot2\n",
        "parrot2 = Parrot()\n",
        "parrot2.name = 'Oggy'\n",
        "parrot2.age = 21\n",
        "\n",
        "# access attributes\n",
        "print(parrot1.name,\" is \",parrot1.age, \"years old\")\n",
        "print(f\"{parrot2.name} is {parrot2.age} years old\")"
      ],
      "metadata": {
        "id": "GNBKtW3OMT_y",
        "colab": {
          "base_uri": "https://localhost:8080/"
        },
        "outputId": "28fa9530-1013-4885-b7b3-a00b3f1d9505"
      },
      "execution_count": 7,
      "outputs": [
        {
          "output_type": "stream",
          "name": "stdout",
          "text": [
            "  is  0 years old\n",
            "Oggy is 21 years old\n"
          ]
        }
      ]
    },
    {
      "cell_type": "code",
      "source": [
        "# PROJECT.1\n",
        "\n",
        "class ATM:\n",
        "    #constructor\n",
        "    def __init__(self):\n",
        "        self.pin = ''\n",
        "        self.balance = 0\n",
        "        self.menu()\n",
        "\n",
        "        # menu\n",
        "    def menu(self):\n",
        "        user_input = input(\n",
        "            \"\"\"Hi, How can I help you?\n",
        "            1. Press 1 to create pin\n",
        "            2. Press 2 to change pin\n",
        "            3. Press 3 to check balance\n",
        "            4. Press 4 to withdraw\n",
        "            5. Anything else to exit\n",
        "            \"\"\")\n",
        "        if user_input == '1':\n",
        "            self.create_pin()\n",
        "        elif user_input == '2':\n",
        "            self.change_pin()\n",
        "        elif user_input == '3':\n",
        "            self.check_balance()\n",
        "        elif user_input == '4':\n",
        "            self.withdraw()\n",
        "        else:\n",
        "            exit()\n",
        "\n",
        "\n",
        "    def create_pin(self):\n",
        "        userpin = input('Enter your pin: ')\n",
        "        self.pin = userpin\n",
        "\n",
        "        user_balance = int(input(\"Enter balance: \"))\n",
        "        self.balance = user_balance\n",
        "        print(\"PIN is created successfully!\")\n",
        "        self.menu()\n",
        "    \n",
        "    def change_pin(self):\n",
        "        old_pin = input(\"Enter your old pin: \")\n",
        "        if old_pin == self.pin:\n",
        "            #let the user to change the PIN\n",
        "            new_pin = input(\"ENter your New PIN: \")\n",
        "            self.pin = new_pin\n",
        "            print(\"PIN changed successfully\")\n",
        "            self.menu()\n",
        "    \n",
        "    def check_balance(self):\n",
        "        user_pin = input('Enter your PIN: ')\n",
        "        if user_pin == self.pin:\n",
        "            print(\"Your balance is:\", self.balance)\n",
        "        else:\n",
        "            print(\"Your PIN is wrong!\")\n",
        "    \n",
        "    def withdraw(self):\n",
        "        user_pin = input(\"Enter your PIN: \")\n",
        "        if user_pin == self.pin:\n",
        "            #Allow the user to withdraw their money\n",
        "            amount = int(input(\"ENter the amount to withdraw: \"))\n",
        "            if amount <= self.balance:\n",
        "                self.balance = self.balance - amount\n",
        "                print(\"Withdraw successful\")\n",
        "            else:\n",
        "                print('Insufficient money!')\n",
        "        else:\n",
        "            print(\"Wrong PIN!\")\n",
        "        self.menu()\n",
        "        \n",
        "    \n",
        "\n",
        "atm1 = ATM()"
      ],
      "metadata": {
        "id": "iBLfqHR_NpYB",
        "colab": {
          "base_uri": "https://localhost:8080/",
          "height": 347
        },
        "outputId": "516814a8-21d5-420b-bdc2-be78007f0c48"
      },
      "execution_count": 20,
      "outputs": [
        {
          "output_type": "error",
          "ename": "KeyboardInterrupt",
          "evalue": "ignored",
          "traceback": [
            "\u001b[0;31m---------------------------------------------------------------------------\u001b[0m",
            "\u001b[0;31mKeyboardInterrupt\u001b[0m                         Traceback (most recent call last)",
            "\u001b[0;32m<ipython-input-20-49dc7957c877>\u001b[0m in \u001b[0;36m<cell line: 73>\u001b[0;34m()\u001b[0m\n\u001b[1;32m     71\u001b[0m \u001b[0;34m\u001b[0m\u001b[0m\n\u001b[1;32m     72\u001b[0m \u001b[0;34m\u001b[0m\u001b[0m\n\u001b[0;32m---> 73\u001b[0;31m \u001b[0matm1\u001b[0m \u001b[0;34m=\u001b[0m \u001b[0mATM\u001b[0m\u001b[0;34m(\u001b[0m\u001b[0;34m)\u001b[0m\u001b[0;34m\u001b[0m\u001b[0;34m\u001b[0m\u001b[0m\n\u001b[0m",
            "\u001b[0;32m<ipython-input-20-49dc7957c877>\u001b[0m in \u001b[0;36m__init__\u001b[0;34m(self)\u001b[0m\n\u001b[1;32m      6\u001b[0m         \u001b[0mself\u001b[0m\u001b[0;34m.\u001b[0m\u001b[0mpin\u001b[0m \u001b[0;34m=\u001b[0m \u001b[0;34m''\u001b[0m\u001b[0;34m\u001b[0m\u001b[0;34m\u001b[0m\u001b[0m\n\u001b[1;32m      7\u001b[0m         \u001b[0mself\u001b[0m\u001b[0;34m.\u001b[0m\u001b[0mbalance\u001b[0m \u001b[0;34m=\u001b[0m \u001b[0;36m0\u001b[0m\u001b[0;34m\u001b[0m\u001b[0;34m\u001b[0m\u001b[0m\n\u001b[0;32m----> 8\u001b[0;31m         \u001b[0mself\u001b[0m\u001b[0;34m.\u001b[0m\u001b[0mmenu\u001b[0m\u001b[0;34m(\u001b[0m\u001b[0;34m)\u001b[0m\u001b[0;34m\u001b[0m\u001b[0;34m\u001b[0m\u001b[0m\n\u001b[0m\u001b[1;32m      9\u001b[0m \u001b[0;34m\u001b[0m\u001b[0m\n\u001b[1;32m     10\u001b[0m         \u001b[0;31m# menu\u001b[0m\u001b[0;34m\u001b[0m\u001b[0;34m\u001b[0m\u001b[0m\n",
            "\u001b[0;32m<ipython-input-20-49dc7957c877>\u001b[0m in \u001b[0;36mmenu\u001b[0;34m(self)\u001b[0m\n\u001b[1;32m     10\u001b[0m         \u001b[0;31m# menu\u001b[0m\u001b[0;34m\u001b[0m\u001b[0;34m\u001b[0m\u001b[0m\n\u001b[1;32m     11\u001b[0m     \u001b[0;32mdef\u001b[0m \u001b[0mmenu\u001b[0m\u001b[0;34m(\u001b[0m\u001b[0mself\u001b[0m\u001b[0;34m)\u001b[0m\u001b[0;34m:\u001b[0m\u001b[0;34m\u001b[0m\u001b[0;34m\u001b[0m\u001b[0m\n\u001b[0;32m---> 12\u001b[0;31m         user_input = input(\n\u001b[0m\u001b[1;32m     13\u001b[0m             \"\"\"Hi, How can I help you?\n\u001b[1;32m     14\u001b[0m             \u001b[0;36m1.\u001b[0m \u001b[0mPress\u001b[0m \u001b[0;36m1\u001b[0m \u001b[0mto\u001b[0m \u001b[0mcreate\u001b[0m \u001b[0mpin\u001b[0m\u001b[0;34m\u001b[0m\u001b[0;34m\u001b[0m\u001b[0m\n",
            "\u001b[0;32m/usr/local/lib/python3.9/dist-packages/ipykernel/kernelbase.py\u001b[0m in \u001b[0;36mraw_input\u001b[0;34m(self, prompt)\u001b[0m\n\u001b[1;32m    849\u001b[0m                 \u001b[0;34m\"raw_input was called, but this frontend does not support input requests.\"\u001b[0m\u001b[0;34m\u001b[0m\u001b[0;34m\u001b[0m\u001b[0m\n\u001b[1;32m    850\u001b[0m             )\n\u001b[0;32m--> 851\u001b[0;31m         return self._input_request(str(prompt),\n\u001b[0m\u001b[1;32m    852\u001b[0m             \u001b[0mself\u001b[0m\u001b[0;34m.\u001b[0m\u001b[0m_parent_ident\u001b[0m\u001b[0;34m,\u001b[0m\u001b[0;34m\u001b[0m\u001b[0;34m\u001b[0m\u001b[0m\n\u001b[1;32m    853\u001b[0m             \u001b[0mself\u001b[0m\u001b[0;34m.\u001b[0m\u001b[0m_parent_header\u001b[0m\u001b[0;34m,\u001b[0m\u001b[0;34m\u001b[0m\u001b[0;34m\u001b[0m\u001b[0m\n",
            "\u001b[0;32m/usr/local/lib/python3.9/dist-packages/ipykernel/kernelbase.py\u001b[0m in \u001b[0;36m_input_request\u001b[0;34m(self, prompt, ident, parent, password)\u001b[0m\n\u001b[1;32m    893\u001b[0m             \u001b[0;32mexcept\u001b[0m \u001b[0mKeyboardInterrupt\u001b[0m\u001b[0;34m:\u001b[0m\u001b[0;34m\u001b[0m\u001b[0;34m\u001b[0m\u001b[0m\n\u001b[1;32m    894\u001b[0m                 \u001b[0;31m# re-raise KeyboardInterrupt, to truncate traceback\u001b[0m\u001b[0;34m\u001b[0m\u001b[0;34m\u001b[0m\u001b[0m\n\u001b[0;32m--> 895\u001b[0;31m                 \u001b[0;32mraise\u001b[0m \u001b[0mKeyboardInterrupt\u001b[0m\u001b[0;34m(\u001b[0m\u001b[0;34m\"Interrupted by user\"\u001b[0m\u001b[0;34m)\u001b[0m \u001b[0;32mfrom\u001b[0m \u001b[0;32mNone\u001b[0m\u001b[0;34m\u001b[0m\u001b[0;34m\u001b[0m\u001b[0m\n\u001b[0m\u001b[1;32m    896\u001b[0m             \u001b[0;32mexcept\u001b[0m \u001b[0mException\u001b[0m \u001b[0;32mas\u001b[0m \u001b[0me\u001b[0m\u001b[0;34m:\u001b[0m\u001b[0;34m\u001b[0m\u001b[0;34m\u001b[0m\u001b[0m\n\u001b[1;32m    897\u001b[0m                 \u001b[0mself\u001b[0m\u001b[0;34m.\u001b[0m\u001b[0mlog\u001b[0m\u001b[0;34m.\u001b[0m\u001b[0mwarning\u001b[0m\u001b[0;34m(\u001b[0m\u001b[0;34m\"Invalid Message:\"\u001b[0m\u001b[0;34m,\u001b[0m \u001b[0mexc_info\u001b[0m\u001b[0;34m=\u001b[0m\u001b[0;32mTrue\u001b[0m\u001b[0;34m)\u001b[0m\u001b[0;34m\u001b[0m\u001b[0;34m\u001b[0m\u001b[0m\n",
            "\u001b[0;31mKeyboardInterrupt\u001b[0m: Interrupted by user"
          ]
        }
      ]
    },
    {
      "cell_type": "markdown",
      "source": [
        "**LET'S TLAK ABOUT THE CONSTRUCTOR**\n",
        "\n",
        "A constructor is a special function, it has a super power that is you don't need to call the functions explicitly, it executes automatically whenever an object is created fot that class."
      ],
      "metadata": {
        "id": "XqjfeMCkQBwL"
      }
    },
    {
      "cell_type": "markdown",
      "source": [
        "**METHODS vs FUNCTIONS**\n",
        "\n",
        "Method: If a function is implemented inside a class then it is called method.\n",
        "\n",
        "Function: If a function exists independently outside a class then it is called a function."
      ],
      "metadata": {
        "id": "Sc32-p2VSX7E"
      }
    },
    {
      "cell_type": "code",
      "source": [],
      "metadata": {
        "id": "U_CnxQ1fTPZl"
      },
      "execution_count": null,
      "outputs": []
    }
  ]
}