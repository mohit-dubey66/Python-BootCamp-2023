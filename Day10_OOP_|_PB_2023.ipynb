{
  "nbformat": 4,
  "nbformat_minor": 0,
  "metadata": {
    "colab": {
      "provenance": [],
      "authorship_tag": "ABX9TyMob9qRNslbPjxbSisStjP0",
      "include_colab_link": true
    },
    "kernelspec": {
      "name": "python3",
      "display_name": "Python 3"
    },
    "language_info": {
      "name": "python"
    }
  },
  "cells": [
    {
      "cell_type": "markdown",
      "metadata": {
        "id": "view-in-github",
        "colab_type": "text"
      },
      "source": [
        "<a href=\"https://colab.research.google.com/github/mohit-dubey66/Python-BootCamp-2023/blob/main/Day10_OOP_%7C_PB_2023.ipynb\" target=\"_parent\"><img src=\"https://colab.research.google.com/assets/colab-badge.svg\" alt=\"Open In Colab\"/></a>"
      ]
    },
    {
      "cell_type": "markdown",
      "source": [
        "# **OBJECT ORIENTED PROGRAMMING**"
      ],
      "metadata": {
        "id": "SEPizZOXFUp1"
      }
    },
    {
      "cell_type": "markdown",
      "source": [
        "* OOP stands for Object Oriented Programming, that provides a means of structuring programs so that properties and behaviours are bundled into individual objects.\n",
        "\n",
        "* An object can represent a person with properties like a name, age and addresses and behaviours such as walking, talking, breathing, running, etc.\n",
        "\n",
        "* List, Tuples, Strings, etc. are objects in Python.\n",
        "\n",
        "* Class is a logical entity while object is physical entity. A class does not allocate memory space while an object does.\n"
      ],
      "metadata": {
        "id": "WcyvLEBOFZDV"
      }
    },
    {
      "cell_type": "markdown",
      "source": [
        "**CLASS vs OBJECT**"
      ],
      "metadata": {
        "id": "JAQkGbugKOjc"
      }
    },
    {
      "cell_type": "markdown",
      "source": [
        "* A Class is like an object constructor, or a \"blueprint\" for creating objects.\n",
        "\n",
        "* It is a self contained component that consists of methods and properties to make a data useful. It helps you to determine the behaviour if the class."
      ],
      "metadata": {
        "id": "J5xywNfdKUXu"
      }
    },
    {
      "cell_type": "code",
      "source": [
        "# Creating a class\n"
      ],
      "metadata": {
        "id": "p2bq53KdK2BC"
      },
      "execution_count": null,
      "outputs": []
    },
    {
      "cell_type": "code",
      "source": [
        "# Instantiating an object\n"
      ],
      "metadata": {
        "id": "Dxo-udy6MOCe"
      },
      "execution_count": null,
      "outputs": []
    },
    {
      "cell_type": "code",
      "source": [
        "# Example.1\n",
        "\n",
        "class Parrot:\n",
        "\n",
        "    # class attribute\n",
        "    \n",
        "\n",
        "# create parrot1 object\n",
        "\n",
        "\n",
        "# create another object parrot2\n",
        "\n",
        "\n",
        "# access attributes\n",
        "print(f\"{parrot1.name} is {parrot1.age} years old\")\n",
        "print(f\"{parrot2.name} is {parrot2.age} years old\")"
      ],
      "metadata": {
        "id": "GNBKtW3OMT_y"
      },
      "execution_count": null,
      "outputs": []
    },
    {
      "cell_type": "code",
      "source": [
        "# PROJECT.1\n",
        "\n",
        "class ATM:\n",
        "    #constructor\n",
        "    \n",
        "\n",
        "\n",
        "    # menu\n",
        "    def menu(self):\n",
        "        "
      ],
      "metadata": {
        "id": "iBLfqHR_NpYB"
      },
      "execution_count": null,
      "outputs": []
    },
    {
      "cell_type": "markdown",
      "source": [
        "**LET'S TLAK ABOUT THE CONSTRUCTOR**\n",
        "\n",
        "A constructor is a special function, it has a super power that is you don't need to call the functions explicitly, it executes automatically whenever an object is created fot that class."
      ],
      "metadata": {
        "id": "XqjfeMCkQBwL"
      }
    },
    {
      "cell_type": "markdown",
      "source": [
        "**METHODS vs FUNCTIONS**\n",
        "\n",
        "Method: If a function is implemented inside a class then it is called method.\n",
        "\n",
        "Function: If a function exists independently outside a class then it is called a function."
      ],
      "metadata": {
        "id": "Sc32-p2VSX7E"
      }
    },
    {
      "cell_type": "code",
      "source": [],
      "metadata": {
        "id": "U_CnxQ1fTPZl"
      },
      "execution_count": null,
      "outputs": []
    }
  ]
}