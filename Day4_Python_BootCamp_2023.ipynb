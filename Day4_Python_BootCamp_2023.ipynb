{
  "nbformat": 4,
  "nbformat_minor": 0,
  "metadata": {
    "colab": {
      "provenance": [],
      "authorship_tag": "ABX9TyMDnFwTtIQAYU4xHOHRbt21",
      "include_colab_link": true
    },
    "kernelspec": {
      "name": "python3",
      "display_name": "Python 3"
    },
    "language_info": {
      "name": "python"
    }
  },
  "cells": [
    {
      "cell_type": "markdown",
      "metadata": {
        "id": "view-in-github",
        "colab_type": "text"
      },
      "source": [
        "<a href=\"https://colab.research.google.com/github/mohit-dubey66/Python-BootCamp-2023/blob/main/Day4_Python_BootCamp_2023.ipynb\" target=\"_parent\"><img src=\"https://colab.research.google.com/assets/colab-badge.svg\" alt=\"Open In Colab\"/></a>"
      ]
    },
    {
      "cell_type": "markdown",
      "source": [
        "# **STRINGS**"
      ],
      "metadata": {
        "id": "fdO17B5rH_qt"
      }
    },
    {
      "cell_type": "markdown",
      "source": [
        "**1) Creating Strings**"
      ],
      "metadata": {
        "id": "qy8lOGXdIDzA"
      }
    },
    {
      "cell_type": "code",
      "source": [
        "# 1) single quote\n",
        "# 2) Double quote\n",
        "# 3) Triple Single Quote\n",
        "# 4) Triple Double Quote\n",
        "# 5) String str()\n",
        "\n",
        "# 'It's me, Mohit' ------> X\n",
        "# \"It's me, Mohit\" ------> ✓"
      ],
      "metadata": {
        "id": "Ps8zUn_JIGwy"
      },
      "execution_count": null,
      "outputs": []
    },
    {
      "cell_type": "markdown",
      "source": [
        "**2) Accessing substrings from a string**\n",
        "\n",
        "Each time we declare a string, Python automatically creates/assign the index to each character of the string. Both poisitive and negative."
      ],
      "metadata": {
        "id": "qKL-i--nJnYM"
      }
    },
    {
      "cell_type": "markdown",
      "source": [
        "1) Positive Indexing(starts from 0)"
      ],
      "metadata": {
        "id": "WgTsX8VjJ6z0"
      }
    },
    {
      "cell_type": "code",
      "source": [
        "# Examples"
      ],
      "metadata": {
        "id": "SwI0DxUoJ_Nl"
      },
      "execution_count": null,
      "outputs": []
    },
    {
      "cell_type": "markdown",
      "source": [
        "2) Negative Indexing(starts from -1)"
      ],
      "metadata": {
        "id": "WGmbTLZuKBSK"
      }
    },
    {
      "cell_type": "code",
      "source": [
        "# Examples"
      ],
      "metadata": {
        "id": "CyZgwteeKE3j"
      },
      "execution_count": null,
      "outputs": []
    },
    {
      "cell_type": "markdown",
      "source": [
        "**SLICING**\n"
      ],
      "metadata": {
        "id": "8oJgHutNKI8V"
      }
    },
    {
      "cell_type": "markdown",
      "source": [
        "i) Accessing by positive indexing."
      ],
      "metadata": {
        "id": "om-HMy6dL8ci"
      }
    },
    {
      "cell_type": "code",
      "source": [
        "s = 'Hello everyone, My name is Python'\n",
        "print(s[:-1])"
      ],
      "metadata": {
        "colab": {
          "base_uri": "https://localhost:8080/"
        },
        "id": "217Q6k-sMBEd",
        "outputId": "a217263b-bdb5-4de2-8ff0-40a470172fe0"
      },
      "execution_count": null,
      "outputs": [
        {
          "output_type": "stream",
          "name": "stdout",
          "text": [
            "Hello everyone, My name is Pytho\n"
          ]
        }
      ]
    },
    {
      "cell_type": "markdown",
      "source": [
        "ii) Accessing by negative indexing"
      ],
      "metadata": {
        "id": "DedvgdiSMQnC"
      }
    },
    {
      "cell_type": "code",
      "source": [],
      "metadata": {
        "id": "D5YXFwzDMTaV"
      },
      "execution_count": null,
      "outputs": []
    },
    {
      "cell_type": "markdown",
      "source": [
        "**3) Editing and Deleting in Strings**\n",
        "Editing is not possible in string because strings are immutable.\n",
        "\n",
        "'del' keyword is used to delete a string."
      ],
      "metadata": {
        "id": "_l3-ZpLpMyxs"
      }
    },
    {
      "cell_type": "code",
      "source": [
        "s = 'Hello world'\n",
        "\n",
        "#deleting entire string\n",
        "\n",
        "#deleting using slicing\n"
      ],
      "metadata": {
        "id": "0IK_yIUBR65r"
      },
      "execution_count": null,
      "outputs": []
    },
    {
      "cell_type": "markdown",
      "source": [],
      "metadata": {
        "id": "Op1leR26SvRh"
      }
    },
    {
      "cell_type": "markdown",
      "source": [
        "**4) Operations on Strings**"
      ],
      "metadata": {
        "id": "gMpxdYPETbTL"
      }
    },
    {
      "cell_type": "markdown",
      "source": [
        "i) Arithmetic Operations(+, *)"
      ],
      "metadata": {
        "id": "Jgo1vpwxTfxl"
      }
    },
    {
      "cell_type": "code",
      "source": [],
      "metadata": {
        "id": "yL2tqIMETjkT"
      },
      "execution_count": null,
      "outputs": []
    },
    {
      "cell_type": "markdown",
      "source": [
        "ii) Relational Operators(lexicographically)"
      ],
      "metadata": {
        "id": "mr_NZ6e4To4M"
      }
    },
    {
      "cell_type": "code",
      "source": [
        "# E.g.\n",
        "\n",
        "print('delhi' != 'delhi')\n",
        "print('Pune' > 'pune')"
      ],
      "metadata": {
        "id": "MnyHoPEqTvoK"
      },
      "execution_count": null,
      "outputs": []
    },
    {
      "cell_type": "markdown",
      "source": [
        "iii) Logical Operators: In Python if any string has any character then it is considered as true and if the string is empty, it is considered as False."
      ],
      "metadata": {
        "id": "spEkbcdwT7YK"
      }
    },
    {
      "cell_type": "code",
      "source": [
        "# E.g.\n",
        "'hello' and 'world'\n",
        "'hello' or 'world'\n",
        "'' and 'world'\n",
        "'' or 'world'\n",
        "not ''\n",
        "not 'hello'\n"
      ],
      "metadata": {
        "id": "vZ49echKUMQX"
      },
      "execution_count": null,
      "outputs": []
    },
    {
      "cell_type": "markdown",
      "source": [
        "iv) Traversing the string"
      ],
      "metadata": {
        "id": "3TkxP6FTU0qH"
      }
    },
    {
      "cell_type": "code",
      "source": [],
      "metadata": {
        "id": "SQJ13dC3U3Gm"
      },
      "execution_count": null,
      "outputs": []
    },
    {
      "cell_type": "markdown",
      "source": [
        "v) Membership operations"
      ],
      "metadata": {
        "id": "oMdFhzGMU3OG"
      }
    },
    {
      "cell_type": "code",
      "source": [],
      "metadata": {
        "id": "izhtQIYSU_p8"
      },
      "execution_count": null,
      "outputs": []
    },
    {
      "cell_type": "markdown",
      "source": [
        "**5) In-Built common functions**\n",
        "\n",
        "1) Finding length - len()\n",
        "\n",
        "2) Finding Maximum - max()\n",
        "\n",
        "3) Finding minimum - min()\n",
        "\n",
        "4) Sorting the string - sorted()"
      ],
      "metadata": {
        "id": "dXuKKtRIkUoZ"
      }
    },
    {
      "cell_type": "code",
      "source": [],
      "metadata": {
        "id": "Qqs-DLoZkcjl"
      },
      "execution_count": null,
      "outputs": []
    },
    {
      "cell_type": "markdown",
      "source": [
        "5) First char to capital - capitalize()\n",
        "\n",
        "6) Title - title()\n",
        "\n",
        "7) All letters to uppercase - upper()\n",
        "\n",
        "8) All letters to lowercase - lower()\n",
        "\n",
        "9) Frequency count of a substring - count()\n",
        "\n",
        "10) Finding the Index - index()"
      ],
      "metadata": {
        "id": "Ax_DIAEekrEt"
      }
    },
    {
      "cell_type": "code",
      "source": [],
      "metadata": {
        "id": "z7Y5-0DXkuzJ"
      },
      "execution_count": null,
      "outputs": []
    },
    {
      "cell_type": "markdown",
      "source": [
        "11) Checking if string is alphanumeric - isalnum()\n",
        "\n",
        "12) Checking if string is alphabetic only - isalpha()\n",
        "\n",
        "13) Checking if string has digits only - isdigit()\n",
        "\n",
        "14) Splitting the string - split()\n",
        "\n",
        "15) Joining the splited string - join()\n",
        "\n",
        "16) Replace the substring - replace()\n",
        "\n",
        "17) Remove extra spaces - strip() "
      ],
      "metadata": {
        "id": "fhd1K9Gaku-d"
      }
    },
    {
      "cell_type": "code",
      "source": [],
      "metadata": {
        "id": "tkMOxrHVkwcy"
      },
      "execution_count": null,
      "outputs": []
    }
  ]
}