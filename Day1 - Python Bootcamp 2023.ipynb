{
  "cells": [
    {
      "cell_type": "markdown",
      "metadata": {
        "id": "view-in-github",
        "colab_type": "text"
      },
      "source": [
        "<a href=\"https://colab.research.google.com/github/mohit-dubey66/Python-BootCamp-2023/blob/main/Day1%20-%20Python%20Bootcamp%202023.ipynb\" target=\"_parent\"><img src=\"https://colab.research.google.com/assets/colab-badge.svg\" alt=\"Open In Colab\"/></a>"
      ]
    },
    {
      "cell_type": "markdown",
      "source": [
        "# **Python Output**\n",
        "\n",
        "Syntax: print(value, ..., sep='', end = '\\n', file = sys.stdout, flush = False)"
      ],
      "metadata": {
        "id": "rhcrbR9jDJ5-"
      }
    },
    {
      "cell_type": "code",
      "source": [
        "#seperating or changing space values\n"
      ],
      "metadata": {
        "id": "1ZJWxY-RDNt9"
      },
      "execution_count": null,
      "outputs": []
    },
    {
      "cell_type": "code",
      "source": [
        "# printing two statemetns in a line\n"
      ],
      "metadata": {
        "id": "b2X6sZUPD2pt"
      },
      "execution_count": null,
      "outputs": []
    },
    {
      "cell_type": "markdown",
      "source": [
        "# **Data Types in Python**"
      ],
      "metadata": {
        "id": "oRLwXYOrEBM9"
      }
    },
    {
      "cell_type": "code",
      "source": [
        "# 1) Integer"
      ],
      "metadata": {
        "id": "tz7HKv-iEEnd"
      },
      "execution_count": null,
      "outputs": []
    },
    {
      "cell_type": "code",
      "source": [
        "# 2) Decimal Float"
      ],
      "metadata": {
        "id": "yqj3t-VIEqU1"
      },
      "execution_count": null,
      "outputs": []
    },
    {
      "cell_type": "code",
      "source": [
        "# 3) Boolean"
      ],
      "metadata": {
        "id": "ESY_khogEuo2"
      },
      "execution_count": null,
      "outputs": []
    },
    {
      "cell_type": "code",
      "source": [
        "# 4) Text/Strings"
      ],
      "metadata": {
        "id": "_JAmgCH8E0Qe"
      },
      "execution_count": null,
      "outputs": []
    },
    {
      "cell_type": "code",
      "source": [
        "# 5) Complex"
      ],
      "metadata": {
        "id": "MAa_nZTME6IK"
      },
      "execution_count": null,
      "outputs": []
    },
    {
      "cell_type": "code",
      "source": [
        "# 6) List"
      ],
      "metadata": {
        "id": "S3E4MoRIE97R"
      },
      "execution_count": null,
      "outputs": []
    },
    {
      "cell_type": "code",
      "source": [
        "# 7) Tuple"
      ],
      "metadata": {
        "id": "W0b0W8hYFAYd"
      },
      "execution_count": null,
      "outputs": []
    },
    {
      "cell_type": "code",
      "source": [
        "# 8) Sets"
      ],
      "metadata": {
        "id": "KUJLKg1IFEeP"
      },
      "execution_count": null,
      "outputs": []
    },
    {
      "cell_type": "code",
      "source": [
        "# 9) Dictionary"
      ],
      "metadata": {
        "id": "AnA-TREeFHGV"
      },
      "execution_count": null,
      "outputs": []
    },
    {
      "cell_type": "code",
      "source": [
        "# How to check types?"
      ],
      "metadata": {
        "id": "3m8zOIb6FJJ_"
      },
      "execution_count": null,
      "outputs": []
    },
    {
      "cell_type": "markdown",
      "source": [
        "# **VARIABLE DECLARATION IN PYTHON**\n",
        "Variables are containers for future use."
      ],
      "metadata": {
        "id": "ezCMX1A6FZmD"
      }
    },
    {
      "cell_type": "code",
      "source": [
        "# Conventional Declaration method"
      ],
      "metadata": {
        "id": "tHz-SMToFexi"
      },
      "execution_count": null,
      "outputs": []
    },
    {
      "cell_type": "code",
      "source": [
        "# But Python is different"
      ],
      "metadata": {
        "id": "eJmktdUOGUIG"
      },
      "execution_count": null,
      "outputs": []
    },
    {
      "cell_type": "markdown",
      "source": [
        "# **Dynamic Typing**\n",
        "\n",
        "In C/C++ or Java like languages, we tell compilers the type of variables while declaration.\n",
        "E.g.:"
      ],
      "metadata": {
        "id": "ctvZnVi-GjLH"
      }
    },
    {
      "cell_type": "code",
      "source": [
        "# int a = 5\n",
        "# string name = 'Mohit'"
      ],
      "metadata": {
        "id": "pSSG5qnxHujO"
      },
      "execution_count": null,
      "outputs": []
    },
    {
      "cell_type": "markdown",
      "source": [
        "But in Python there's no need of type declaration. It auto-detects the type of variables.\n",
        "\n"
      ],
      "metadata": {
        "id": "d7Ml174IH79u"
      }
    },
    {
      "cell_type": "markdown",
      "source": [
        "# **Static Typing**\n",
        "In C/C++ or Java like languages, we define the type of variables while declaration, this is called static typing and Python does not support this."
      ],
      "metadata": {
        "id": "P87Isru9IGum"
      }
    },
    {
      "cell_type": "markdown",
      "source": [
        "# **Dynamic Binding vs Static Binding**\n",
        "Static binding refers to the execution of a program where type of object is determined at compile time i.e., when compiler executes the code it know the type of object or class to which object belongs. While in case of dynamic binding the type of object is determined at runtime.\n",
        "E.g.: "
      ],
      "metadata": {
        "id": "Ql8-8O_xJBAZ"
      }
    },
    {
      "cell_type": "code",
      "source": [
        "# a = 5\n",
        "\n",
        "# a = 'Chhota Bheem'"
      ],
      "metadata": {
        "id": "aC-zGZqEJ3Tq"
      },
      "execution_count": null,
      "outputs": []
    },
    {
      "cell_type": "markdown",
      "source": [
        "in static binding once the variable type is declared it cannot hold any other variable type."
      ],
      "metadata": {
        "id": "nWfEqIzTKdZP"
      }
    },
    {
      "cell_type": "markdown",
      "source": [
        "# **Declaring Variables of Python in Style**\n"
      ],
      "metadata": {
        "id": "GHWEbhNoKq3r"
      }
    },
    {
      "cell_type": "code",
      "source": [
        "# 1) a = ?\n",
        "# 2) a,b,c = ?\n",
        "# 3) a = b = c = ?"
      ],
      "metadata": {
        "id": "6QEPXLiNKzsk"
      },
      "execution_count": null,
      "outputs": []
    },
    {
      "cell_type": "markdown",
      "source": [
        "# **Comments**"
      ],
      "metadata": {
        "id": "jcp7Rxl4LF1o"
      }
    },
    {
      "cell_type": "code",
      "source": [
        "#"
      ],
      "metadata": {
        "id": "z4UOM8WjVf8L"
      },
      "execution_count": null,
      "outputs": []
    }
  ],
  "metadata": {
    "colab": {
      "name": "Welcome To Colaboratory",
      "provenance": [],
      "include_colab_link": true
    },
    "kernelspec": {
      "display_name": "Python 3",
      "name": "python3"
    }
  },
  "nbformat": 4,
  "nbformat_minor": 0
}