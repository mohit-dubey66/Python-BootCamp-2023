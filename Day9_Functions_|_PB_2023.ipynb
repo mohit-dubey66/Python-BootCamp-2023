{
  "nbformat": 4,
  "nbformat_minor": 0,
  "metadata": {
    "colab": {
      "provenance": [],
      "authorship_tag": "ABX9TyNIieRjTS/xd8f4NVOw+ef9",
      "include_colab_link": true
    },
    "kernelspec": {
      "name": "python3",
      "display_name": "Python 3"
    },
    "language_info": {
      "name": "python"
    }
  },
  "cells": [
    {
      "cell_type": "markdown",
      "metadata": {
        "id": "view-in-github",
        "colab_type": "text"
      },
      "source": [
        "<a href=\"https://colab.research.google.com/github/mohit-dubey66/Python-BootCamp-2023/blob/main/Day9_Functions_%7C_PB_2023.ipynb\" target=\"_parent\"><img src=\"https://colab.research.google.com/assets/colab-badge.svg\" alt=\"Open In Colab\"/></a>"
      ]
    },
    {
      "cell_type": "markdown",
      "source": [
        "# **FUNCTIONS**"
      ],
      "metadata": {
        "id": "DrURra78_9A9"
      }
    },
    {
      "cell_type": "markdown",
      "source": [
        "Create a function to check if the given value is odd or even."
      ],
      "metadata": {
        "id": "2Xp0aXuuHyLB"
      }
    },
    {
      "cell_type": "code",
      "source": [],
      "metadata": {
        "id": "te444H6cHypc"
      },
      "execution_count": null,
      "outputs": []
    },
    {
      "cell_type": "markdown",
      "source": [
        "**Types of arguments**"
      ],
      "metadata": {
        "id": "3wVqkU6MH5LP"
      }
    },
    {
      "cell_type": "markdown",
      "source": [
        "1) Default Arguments: If function is called without arguments, the argument gets its default value."
      ],
      "metadata": {
        "id": "XYGZD_VaIDcQ"
      }
    },
    {
      "cell_type": "code",
      "source": [
        "# E.g. -----> power(a = 4, b = 7)\n"
      ],
      "metadata": {
        "id": "tv4f-HqcIGVu"
      },
      "execution_count": null,
      "outputs": []
    },
    {
      "cell_type": "markdown",
      "source": [
        "2) Positional Arguments: are simply an ordered lists of inputs in a Python function call that correspond to the order of the parameters defined in the function header."
      ],
      "metadata": {
        "id": "tlZOUOz7IM0T"
      }
    },
    {
      "cell_type": "code",
      "source": [
        "# E.g. ---> power(2, 3)\n"
      ],
      "metadata": {
        "id": "TTFGtwA1IQqi"
      },
      "execution_count": null,
      "outputs": []
    },
    {
      "cell_type": "markdown",
      "source": [
        "3) Keyword Arguments: Values get assigned by their keywords."
      ],
      "metadata": {
        "id": "ZuU2R7lrItvP"
      }
    },
    {
      "cell_type": "code",
      "source": [
        "# E.g. ----> power(b = 3, a = 8)\n"
      ],
      "metadata": {
        "id": "i24KStD6I0F8"
      },
      "execution_count": null,
      "outputs": []
    },
    {
      "cell_type": "markdown",
      "source": [
        "**VARIABLE SCOPE**"
      ],
      "metadata": {
        "id": "vmVFHBVAI9xF"
      }
    },
    {
      "cell_type": "code",
      "source": [
        "# Example.1\n",
        "\n",
        "def g(y):\n",
        "    print(x)\n",
        "    print(x + 1)\n",
        "x = 5\n",
        "g(x)\n",
        "print(x)"
      ],
      "metadata": {
        "id": "UCfC_yFiJBON"
      },
      "execution_count": null,
      "outputs": []
    },
    {
      "cell_type": "code",
      "source": [
        "# Example.2\n",
        "\n",
        "def f(y):\n",
        "    x = 1\n",
        "    x += 1\n",
        "    print(x)\n",
        "x = 5\n",
        "f(x)\n",
        "print(x)"
      ],
      "metadata": {
        "id": "hsCKzT8bJBUb"
      },
      "execution_count": null,
      "outputs": []
    },
    {
      "cell_type": "code",
      "source": [
        "# Example.3\n",
        "\n",
        "def h(y):\n",
        "    x += 1\n",
        "x = 5\n",
        "h(x)\n",
        "print(x)"
      ],
      "metadata": {
        "id": "dHQOKdpyJ0rq"
      },
      "execution_count": null,
      "outputs": []
    },
    {
      "cell_type": "code",
      "source": [
        "#Example.4\n",
        "\n",
        "def h(y):\n",
        "    global x\n",
        "    x += 1\n",
        "x = 5\n",
        "h(x)\n",
        "print(x)"
      ],
      "metadata": {
        "id": "W1yXH-UsKF24"
      },
      "execution_count": null,
      "outputs": []
    },
    {
      "cell_type": "markdown",
      "source": [
        "**Nested Functions**"
      ],
      "metadata": {
        "id": "hEYSUhaKKWKR"
      }
    },
    {
      "cell_type": "code",
      "source": [
        "# Example.1\n",
        "\n",
        "def f():\n",
        "    def g():\n",
        "        print('Inside function g!')\n",
        "    g()\n",
        "    print('inside function f!')\n",
        "f()"
      ],
      "metadata": {
        "id": "3CSSuJ1SKY2D"
      },
      "execution_count": null,
      "outputs": []
    },
    {
      "cell_type": "code",
      "source": [
        "# Example.2\n",
        "\n",
        "def g(x):\n",
        "    def h():\n",
        "        x = 'abc'\n",
        "    x = x + 1\n",
        "    print('in g(x): x = ', x)\n",
        "    h()\n",
        "    return x\n",
        "\n",
        "x = 3\n",
        "z = g(x)"
      ],
      "metadata": {
        "id": "CYFRlunlKnZz"
      },
      "execution_count": null,
      "outputs": []
    },
    {
      "cell_type": "code",
      "source": [
        "# Example.3\n",
        "\n",
        "def g(x):\n",
        "    def h(x):\n",
        "        x = x + 1\n",
        "        print('in h(x): x = ', x)\n",
        "    x = x + 1\n",
        "    print('in g(x): x = ', x)\n",
        "    h(x)\n",
        "    return x\n",
        "\n",
        "x = 3\n",
        "z = g(x)\n",
        "print(\"in main program scope : x = \", x)\n",
        "print(\"in main program scope : z = \", z)"
      ],
      "metadata": {
        "id": "puzvESv9K9Wt"
      },
      "execution_count": null,
      "outputs": []
    },
    {
      "cell_type": "markdown",
      "source": [
        "**LAMBDA FUNCTIONS**"
      ],
      "metadata": {
        "id": "H1Qpy78gLzFk"
      }
    },
    {
      "cell_type": "code",
      "source": [
        "# Example.1 - calculate a square\n",
        "\n",
        "a = lambda x : x**2\n",
        "a(3)"
      ],
      "metadata": {
        "colab": {
          "base_uri": "https://localhost:8080/"
        },
        "id": "kRM4Ca_IL1h6",
        "outputId": "d629c13a-da58-4e96-d320-6db4f8f66826"
      },
      "execution_count": 1,
      "outputs": [
        {
          "output_type": "execute_result",
          "data": {
            "text/plain": [
              "9"
            ]
          },
          "metadata": {},
          "execution_count": 1
        }
      ]
    },
    {
      "cell_type": "code",
      "source": [
        "# Example.2 - add two numbers\n"
      ],
      "metadata": {
        "id": "ax4A5Ip2MFS4"
      },
      "execution_count": null,
      "outputs": []
    },
    {
      "cell_type": "code",
      "source": [
        "# Example.3 - check if a string has a\n"
      ],
      "metadata": {
        "id": "ZiNa6IKMMLf_"
      },
      "execution_count": null,
      "outputs": []
    },
    {
      "cell_type": "code",
      "source": [
        "# Example.4 - check odd or even\n"
      ],
      "metadata": {
        "id": "nKPXph2jMrdM"
      },
      "execution_count": null,
      "outputs": []
    }
  ]
}