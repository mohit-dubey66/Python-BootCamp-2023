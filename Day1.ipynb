{
  "cells": [
    {
      "cell_type": "markdown",
      "metadata": {
        "id": "view-in-github",
        "colab_type": "text"
      },
      "source": [
        "<a href=\"https://colab.research.google.com/github/mohit-dubey66/DevSearch/blob/main/Day1.ipynb\" target=\"_parent\"><img src=\"https://colab.research.google.com/assets/colab-badge.svg\" alt=\"Open In Colab\"/></a>"
      ]
    },
    {
      "cell_type": "markdown",
      "source": [
        "**Python Output**\n",
        "\n",
        "Syntax: print(value, ..., sep='', end = '\\n', file = sys.stdout, flush = False)"
      ],
      "metadata": {
        "id": "rhcrbR9jDJ5-"
      }
    },
    {
      "cell_type": "code",
      "source": [
        "#seperating or changing space values\n"
      ],
      "metadata": {
        "id": "1ZJWxY-RDNt9"
      },
      "execution_count": null,
      "outputs": []
    },
    {
      "cell_type": "code",
      "source": [
        "# printing two statemetns in a line\n"
      ],
      "metadata": {
        "id": "b2X6sZUPD2pt"
      },
      "execution_count": null,
      "outputs": []
    },
    {
      "cell_type": "markdown",
      "source": [
        "**Data Types in Python**"
      ],
      "metadata": {
        "id": "oRLwXYOrEBM9"
      }
    },
    {
      "cell_type": "code",
      "source": [],
      "metadata": {
        "id": "tz7HKv-iEEnd"
      },
      "execution_count": null,
      "outputs": []
    }
  ],
  "metadata": {
    "colab": {
      "name": "Welcome To Colaboratory",
      "provenance": [],
      "include_colab_link": true
    },
    "kernelspec": {
      "display_name": "Python 3",
      "name": "python3"
    }
  },
  "nbformat": 4,
  "nbformat_minor": 0
}