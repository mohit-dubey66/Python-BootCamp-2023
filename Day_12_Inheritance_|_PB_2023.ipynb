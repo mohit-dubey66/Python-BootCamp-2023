{
  "nbformat": 4,
  "nbformat_minor": 0,
  "metadata": {
    "colab": {
      "provenance": [],
      "authorship_tag": "ABX9TyNw5NibuXiKKLKcYGSNokv/",
      "include_colab_link": true
    },
    "kernelspec": {
      "name": "python3",
      "display_name": "Python 3"
    },
    "language_info": {
      "name": "python"
    }
  },
  "cells": [
    {
      "cell_type": "markdown",
      "metadata": {
        "id": "view-in-github",
        "colab_type": "text"
      },
      "source": [
        "<a href=\"https://colab.research.google.com/github/mohit-dubey66/Python-BootCamp-2023/blob/main/Day_12_Inheritance_%7C_PB_2023.ipynb\" target=\"_parent\"><img src=\"https://colab.research.google.com/assets/colab-badge.svg\" alt=\"Open In Colab\"/></a>"
      ]
    },
    {
      "cell_type": "markdown",
      "source": [
        "# **INHERITANCE**"
      ],
      "metadata": {
        "id": "laJMZSz_WKz_"
      }
    },
    {
      "cell_type": "markdown",
      "source": [
        "* The processing of inheriting the properties of the parent class into a child class is called inheritance.\n",
        "\n",
        "* The existing class is called a base class or parent class and the new class is called a subclass or child class or derived class.\n",
        "\n",
        "* The main purpose of inheritance is reusability of code becasue we can use the code existing class to create a new class instead of creating it from scratch.\n",
        "* In inheritance the child class accquires all the data members, properties and functions from the parent class.\n"
      ],
      "metadata": {
        "id": "_tBx4hiZWYOr"
      }
    },
    {
      "cell_type": "code",
      "source": [
        "# Real life example - Vehicle ----> Car\n"
      ],
      "metadata": {
        "id": "dM1JAKa4Zw0G"
      },
      "execution_count": null,
      "outputs": []
    },
    {
      "cell_type": "code",
      "source": [
        "# syntax\n",
        "\n",
        "class Vehicle:\n",
        "    pass\n",
        "\n",
        "class Car(Vehicle):\n",
        "    pass"
      ],
      "metadata": {
        "id": "mWdLpXG7ajDP"
      },
      "execution_count": null,
      "outputs": []
    },
    {
      "cell_type": "code",
      "source": [
        "class Person:\n",
        "    def __init__(selmon, name, country):\n",
        "        selmon.name = name\n",
        "        selmon.country = country\n",
        "\n",
        "    def greet(selmon):\n",
        "        if selmon.country == 'India':\n",
        "            print(\"Namastey: \", selmon.name)\n",
        "            print(selmon.gender)\n",
        "        else:\n",
        "            print(\"Hello: \", selmon.name)\n",
        "\n",
        "person1 = Person('Python', 'India')\n",
        "# print(person1)\n",
        "# print(person1.name)\n",
        "# print(person1.country)\n",
        "\n",
        "person1.gender = 'Male'\n",
        "# print(person1.gender)\n",
        "person1.greet()\n",
        "person2 = Person(\"Mohit\", 'USA')\n",
        "\n",
        "print(person1.name)\n",
        "print(person2.name)"
      ],
      "metadata": {
        "colab": {
          "base_uri": "https://localhost:8080/"
        },
        "id": "s9rsl-JvXY-i",
        "outputId": "5a38249e-7ba7-41d2-ca5f-1af2a8415f03"
      },
      "execution_count": null,
      "outputs": [
        {
          "output_type": "stream",
          "name": "stdout",
          "text": [
            "Namastey:  Python\n",
            "Male\n",
            "Python\n",
            "Mohit\n"
          ]
        }
      ]
    },
    {
      "cell_type": "markdown",
      "source": [
        "**What get's inherited?**\n",
        "* Constructor\n",
        "* Non-Private Attributes\n",
        "* Non-Private methods"
      ],
      "metadata": {
        "id": "KX7ano1uan4K"
      }
    },
    {
      "cell_type": "markdown",
      "source": [
        "**1) Constructor**\n",
        "\n",
        "If child doesn/t have any constructor then Parent's constructor is called and initialized. "
      ],
      "metadata": {
        "id": "Z1Qy2AnSa16k"
      }
    },
    {
      "cell_type": "code",
      "source": [
        "# Example:1\n",
        "class Phone:\n",
        "    def __init__(self, price, brand, camera):\n",
        "        self.price = price\n",
        "        self.brand = brand\n",
        "        self.camera = camera\n",
        "    \n",
        "    def buy(self):\n",
        "        print(\"Buying a phone\")"
      ],
      "metadata": {
        "id": "kdTFVgRGbh51"
      },
      "execution_count": null,
      "outputs": []
    },
    {
      "cell_type": "code",
      "source": [
        "class SmartPhone(Phone):\n",
        "    pass"
      ],
      "metadata": {
        "id": "77P1jya3bxvs"
      },
      "execution_count": null,
      "outputs": []
    },
    {
      "cell_type": "code",
      "source": [
        "s = SmartPhone(2000, 'Redmi', 23)\n",
        "s.buy()"
      ],
      "metadata": {
        "id": "vUBydHU_b5iv",
        "colab": {
          "base_uri": "https://localhost:8080/"
        },
        "outputId": "fdd19fca-d8e0-4519-f8b8-eb1d2469660f"
      },
      "execution_count": null,
      "outputs": [
        {
          "output_type": "stream",
          "name": "stdout",
          "text": [
            "Buying a phone\n"
          ]
        }
      ]
    },
    {
      "cell_type": "code",
      "source": [
        "# Example : 2\n",
        "class Phone:\n",
        "    def __init__(self, price, brand, camera):\n",
        "        print(\"Inside phone constructor!\")\n",
        "        self.price = price\n",
        "        self.brand = brand\n",
        "        self.camera = camera\n",
        "    \n",
        "class SmartPhone(Phone):\n",
        "    def __init__(self, os, ram):\n",
        "        self.os = os\n",
        "        self.ram = ram\n",
        "        print(\"inside SmartPhone constructor!\")"
      ],
      "metadata": {
        "id": "xk0v-dQvcMkx"
      },
      "execution_count": null,
      "outputs": []
    },
    {
      "cell_type": "code",
      "source": [
        "s = SmartPhone(\"Android\", 2)\n",
        "s.os"
      ],
      "metadata": {
        "id": "BKGhJlnXdFWu",
        "colab": {
          "base_uri": "https://localhost:8080/",
          "height": 53
        },
        "outputId": "6a48a85f-7aff-4cf5-bc2b-ec3159db12fd"
      },
      "execution_count": null,
      "outputs": [
        {
          "output_type": "stream",
          "name": "stdout",
          "text": [
            "inside SmartPhone constructor!\n"
          ]
        },
        {
          "output_type": "execute_result",
          "data": {
            "text/plain": [
              "'Android'"
            ],
            "application/vnd.google.colaboratory.intrinsic+json": {
              "type": "string"
            }
          },
          "metadata": {},
          "execution_count": 17
        }
      ]
    },
    {
      "cell_type": "markdown",
      "source": [
        "NOTE:\n",
        "* Since, child has constructor, hence only child constructor will be executed and initialized, parent constructor won't be executed. So if I try to access brand it will throw error."
      ],
      "metadata": {
        "id": "qvYC0ZAodJWq"
      }
    },
    {
      "cell_type": "markdown",
      "source": [
        "**CHILD CAN NOT ACCESS PRIVATE MEMBERS OF THE CLASS**"
      ],
      "metadata": {
        "id": "U-FWy8RZdjXn"
      }
    },
    {
      "cell_type": "code",
      "source": [
        "# Example.1\n",
        "class Phone:\n",
        "    def __init__(self, price, brand, camera):\n",
        "        print(\"Inside phone constructor!\")\n",
        "        self.__price = price\n",
        "        self.brand = brand\n",
        "        self.camera = camera\n",
        "    \n",
        "    def __show(self):\n",
        "        print(self.__price)"
      ],
      "metadata": {
        "id": "0hg7iY-tdoup"
      },
      "execution_count": null,
      "outputs": []
    },
    {
      "cell_type": "code",
      "source": [
        "class SmartPhone(Phone):\n",
        "    def check(self):\n",
        "        print(self.__price)"
      ],
      "metadata": {
        "id": "zZgAPVSEdyML"
      },
      "execution_count": null,
      "outputs": []
    },
    {
      "cell_type": "code",
      "source": [
        "s = SmartPhone(2000, 'Apple', 13)\n",
        "print(s.brand)\n",
        "\n",
        "#Accessing private members\n",
        "print(s.check())"
      ],
      "metadata": {
        "id": "R-nn2UY9eDOO"
      },
      "execution_count": null,
      "outputs": []
    },
    {
      "cell_type": "markdown",
      "source": [
        "**Method Overriding**\n",
        "\n",
        "* If there is inheritance and both classes are having methods of same name then, child's method will be called or executed."
      ],
      "metadata": {
        "id": "CTC3NQOwyzyX"
      }
    },
    {
      "cell_type": "code",
      "source": [
        "# Example:1\n",
        "class Phone:\n",
        "    def __init__(self, price, brand, camera):\n",
        "        print(\"Inside phone constructor!\")\n",
        "        self.price = price\n",
        "        self.brand = brand\n",
        "        self.camera = camera\n",
        "    \n",
        "    def buy(self):\n",
        "        print(\"Buying a Phone\")"
      ],
      "metadata": {
        "id": "WdNNj-tzzLt5"
      },
      "execution_count": null,
      "outputs": []
    },
    {
      "cell_type": "code",
      "source": [
        "class SmartPhone(Phone):\n",
        "    def buy(self):\n",
        "        super().buy()\n",
        "        print(\"Buying a SmartPhone\")\n",
        "        "
      ],
      "metadata": {
        "id": "4d27N-6y0oS1"
      },
      "execution_count": null,
      "outputs": []
    },
    {
      "cell_type": "code",
      "source": [
        "s = SmartPhone(2000, 'Apple', 13)\n",
        "s.buy()"
      ],
      "metadata": {
        "id": "z60-Xw9w01Ck",
        "colab": {
          "base_uri": "https://localhost:8080/"
        },
        "outputId": "7a7dec14-e380-415e-8104-80f4ef689c11"
      },
      "execution_count": null,
      "outputs": [
        {
          "output_type": "stream",
          "name": "stdout",
          "text": [
            "Inside phone constructor!\n",
            "Buying a Phone\n",
            "Buying a SmartPhone\n"
          ]
        }
      ]
    },
    {
      "cell_type": "markdown",
      "source": [
        "**super keyword**\n",
        "* super(), is used to access methods of parent class."
      ],
      "metadata": {
        "id": "MhkkHpYI1dTH"
      }
    },
    {
      "cell_type": "code",
      "source": [
        "# Example.1 ---> old code\n"
      ],
      "metadata": {
        "id": "5HZgJevZ2Nf8"
      },
      "execution_count": null,
      "outputs": []
    },
    {
      "cell_type": "code",
      "source": [
        "# Example.2 ----> super constructor\n",
        "\n",
        "class Phone:\n",
        "    def __init__(self, price, brand, camera):\n",
        "        print(\"Inside phone constructor!\")\n",
        "        self.price = price\n",
        "        self.brand = brand\n",
        "        self.camera = camera\n",
        "\n",
        "class SmartPhone(Phone):\n",
        "    def __init__(self, price, brand, camera, os, ram):\n",
        "        super().__init__(price, brand, camera)\n",
        "        self.os = os\n",
        "        self.ram = ram\n",
        "        print(\"inside SmartPhone constructor!\")"
      ],
      "metadata": {
        "id": "UkNG7Y9G2gGq"
      },
      "execution_count": null,
      "outputs": []
    },
    {
      "cell_type": "code",
      "source": [
        "s = SmartPhone(2000, \"Apple\", 48, \"Andriod\", 8)\n",
        "\n",
        "#Accessing OS\n",
        "print(s.os)\n",
        "#Accessing brand\n",
        "print(s.brand)"
      ],
      "metadata": {
        "id": "Qy_yLcPV3eKt",
        "colab": {
          "base_uri": "https://localhost:8080/"
        },
        "outputId": "f9f0902f-cef1-4029-9d01-0630c3484daf"
      },
      "execution_count": null,
      "outputs": [
        {
          "output_type": "stream",
          "name": "stdout",
          "text": [
            "Inside phone constructor!\n",
            "inside SmartPhone constructor!\n",
            "Andriod\n",
            "Apple\n"
          ]
        }
      ]
    },
    {
      "cell_type": "markdown",
      "source": [
        "NOTE:\n",
        "* super(), is only used in child class constructor and can not be used outside of the class. Also, it cannot access any variables/attributes."
      ],
      "metadata": {
        "id": "PFTRVE-95nDM"
      }
    },
    {
      "cell_type": "markdown",
      "source": [
        "SUMMARY:\n",
        "* A class can inherit from another class.\n",
        "* Inheritance imrpoves code reuse.\n",
        "* Constructor, attributes, methods get inherited to the child class.\n",
        "* The parent has no access to the child class.\n",
        "* Private properties of parents are not accessible directly in child class.\n",
        "* Child class can override the attributes or methods. This is called method overriding. This is called method overriding.\n",
        "* super(), is an in-built function which is used to invoke parent class attributes, and methods."
      ],
      "metadata": {
        "id": "z3_I3kyj6hHl"
      }
    },
    {
      "cell_type": "code",
      "source": [
        "# Practice Problem.1\n",
        "\n",
        "class Parent:\n",
        "    def __init__(self, num):\n",
        "        self.__num = num\n",
        "    \n",
        "    def get_num(self):\n",
        "        return self.__num\n",
        "\n",
        "class Child(Parent):\n",
        "    def __init__(self, num, val):\n",
        "        super().__init__(num)\n",
        "        self.__val = val\n",
        "    \n",
        "    def get_val(self):\n",
        "        return self.__val\n",
        "\n",
        "son = Child(100,200)\n",
        "print(son.get_num())\n",
        "print(son.get_val())"
      ],
      "metadata": {
        "id": "hLQcqJDO8G7f"
      },
      "execution_count": null,
      "outputs": []
    },
    {
      "cell_type": "code",
      "source": [
        "# Practice Problem.2\n",
        "class Parent:\n",
        "    def __init__(self):\n",
        "        self.num = 100\n",
        "    \n",
        "class Child(Parent):\n",
        "    def __init__(self):\n",
        "        super().__init__()\n",
        "        self.var = 200\n",
        "    \n",
        "    def show(self):\n",
        "        print(self.num)\n",
        "        print(self.var)\n",
        "\n",
        "son = Child()\n",
        "son.show()"
      ],
      "metadata": {
        "id": "ifZN4MBR_Ns2"
      },
      "execution_count": null,
      "outputs": []
    },
    {
      "cell_type": "markdown",
      "source": [
        "# **Types of Inheritance**\n",
        "* Single Inheritance\n",
        "* Multiple Inheritance\n",
        "* Multilevel Inheritance\n",
        "* Hierarchial Inheritance\n",
        "* Hybrid Inheritance"
      ],
      "metadata": {
        "id": "SMadPvi9APsf"
      }
    },
    {
      "cell_type": "markdown",
      "source": [
        "**1) Single Inheritance**\n",
        "* A child class inherit from single parent class. Here is one child class and one parent class.\n",
        "\n",
        "![python_single_inheritance.webp](data:image/webp;base64,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)"
      ],
      "metadata": {
        "id": "xHP4UVMsAofT"
      }
    },
    {
      "cell_type": "code",
      "source": [
        "# Example\n",
        "\n",
        "class Phone:\n",
        "    def __init__(self, price, brand, camera):\n",
        "        print(\"Inside phone constructor!\")\n",
        "        self.price = price\n",
        "        self.brand = brand\n",
        "        self.camera = camera\n",
        "    \n",
        "    def buy(self):\n",
        "        print(\"Buying a Phone\")\n",
        "\n",
        "class SmartPhone(Phone):\n",
        "    pass"
      ],
      "metadata": {
        "id": "pKHuYKpzAytQ"
      },
      "execution_count": 1,
      "outputs": []
    },
    {
      "cell_type": "code",
      "source": [
        "SmartPhone(2000, \"Apple\", '13px').buy()"
      ],
      "metadata": {
        "id": "KChS4d1hBb2h",
        "colab": {
          "base_uri": "https://localhost:8080/"
        },
        "outputId": "e2f65cb5-ae91-4ddb-b88b-d4b65867e2ee"
      },
      "execution_count": 2,
      "outputs": [
        {
          "output_type": "stream",
          "name": "stdout",
          "text": [
            "Inside phone constructor!\n",
            "Buying a Phone\n"
          ]
        }
      ]
    },
    {
      "cell_type": "markdown",
      "source": [
        "**2) Multiple Inehritance**\n",
        "* One child class can inherit from multiple parent classes. So, here is one child class and multiple parent class.\n",
        "\n",
        "![python_multiple_inheritance.webp](data:image/webp;base64,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)"
      ],
      "metadata": {
        "id": "o7b42UBvGm9U"
      }
    },
    {
      "cell_type": "code",
      "source": [
        "# Example\n",
        "\n",
        "# Parent CLass 1\n",
        "class Person:\n",
        "    def person_info(self, name, age):\n",
        "        print('Inside person class')\n",
        "        print('Name: ', name, \", Age:\", age)\n",
        "\n",
        "    def check(self):\n",
        "        print(\"Inside the PERSON class\")\n",
        "\n",
        "# Parent class 2\n",
        "class Company:\n",
        "    def company_info(self, company_name, location):\n",
        "        print(\"Inside company class\")\n",
        "        print(\"Name:\", company_name, \", Location:\", location)\n",
        "\n",
        "    def check(self):\n",
        "        print(\"Inside the PERSON2 class\")\n",
        "\n",
        "# Child class\n",
        "class Employee(Company, Person):\n",
        "    def employee_info(self, salary, skill):\n",
        "        print(\"Inside Employee class\")\n",
        "        print(\"Salary:\", salary, \", Skill::\", skill)"
      ],
      "metadata": {
        "id": "FnuNcdhyG0EB"
      },
      "execution_count": 12,
      "outputs": []
    },
    {
      "cell_type": "code",
      "source": [
        "emp = Employee()\n",
        "\n",
        "#Access data\n",
        "emp.person_info(\"Mohit\", 22)\n",
        "# emp.company_info('Google', \"USA\")\n",
        "# print()\n",
        "emp.check()"
      ],
      "metadata": {
        "id": "_0o_inpHHvDR",
        "colab": {
          "base_uri": "https://localhost:8080/"
        },
        "outputId": "56a79cbd-4660-4bf1-a7ec-c603c9bd6ef0"
      },
      "execution_count": 28,
      "outputs": [
        {
          "output_type": "stream",
          "name": "stdout",
          "text": [
            "Inside person class\n",
            "Name:  Mohit , Age: 22\n",
            "Inside the PERSON2 class\n"
          ]
        }
      ]
    },
    {
      "cell_type": "markdown",
      "source": [
        "**3) Multilevel Inheritance**\n",
        "* In multilevel inheritance, a class inherits from a child class or derived class. Suppose three classes A, B, C. A is the super class, B is the child class of A, C is the child class of B.\n",
        "\n",
        "![python_multilevel_inheritance.webp](data:image/webp;base64,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)\n",
        "\n",
        "\n",
        "\n"
      ],
      "metadata": {
        "id": "GPIsfnNNH9i0"
      }
    },
    {
      "cell_type": "code",
      "source": [
        "# Example\n",
        "\n",
        "class Vehicle:\n",
        "    def vehicle_info(self):\n",
        "        print(\"Inside vehicle class\")\n",
        "    \n",
        "class Car(Vehicle):\n",
        "    def car_info(self):\n",
        "        print(\"Inside Car class\")\n",
        "\n",
        "class SportsCar(Car):\n",
        "    def sport_car(self):\n",
        "        print(\"Inside sportscar class\")"
      ],
      "metadata": {
        "id": "yc5BdBy8IW_2"
      },
      "execution_count": 17,
      "outputs": []
    },
    {
      "cell_type": "code",
      "source": [
        "s_car = SportsCar()\n",
        "\n",
        "# Access vehicle's and car info using SportsCar object\n",
        "s_car.vehicle_info()\n",
        "s_car.car_info()"
      ],
      "metadata": {
        "id": "X6BWueIYIt8V",
        "colab": {
          "base_uri": "https://localhost:8080/"
        },
        "outputId": "a527d54e-aecf-44b6-e36c-7abdde66c31c"
      },
      "execution_count": 18,
      "outputs": [
        {
          "output_type": "stream",
          "name": "stdout",
          "text": [
            "Inside vehicle class\n",
            "Inside Car class\n"
          ]
        }
      ]
    },
    {
      "cell_type": "markdown",
      "source": [
        "**4) Hierarchial Inheritance**\n",
        "* In Hierarchical inheritance, more than one child class is derived from a single parent class. In other words, we can say one parent class and multiple child classes.\n",
        "\n",
        "![python_hierarchical_inheritance.webp](data:image/webp;base64,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)"
      ],
      "metadata": {
        "id": "jtQza2PzKi9c"
      }
    },
    {
      "cell_type": "code",
      "source": [
        "# Example \n",
        "\n",
        "class Vehicle:\n",
        "    def vehicle_info(self):\n",
        "        print(\"This is Vehicle\")\n",
        "\n",
        "class Car(Vehicle):\n",
        "    def car_info(self, name):\n",
        "        print(\"Car name is:\", name)\n",
        "\n",
        "class Truck(Vehicle):\n",
        "    def truck_info(self, name):\n",
        "        print(\"Truck name is:\", name)"
      ],
      "metadata": {
        "id": "-Ge8af46JNqN"
      },
      "execution_count": 19,
      "outputs": []
    },
    {
      "cell_type": "code",
      "source": [
        "# obj1 = Car()\n",
        "# obj1.vehicle_info()\n",
        "# obj1.car_info('Honda')\n",
        "# obj1.truck_info('Force')\n",
        "\n",
        "obj2 = Truck()\n",
        "obj2.vehicle_info()\n",
        "obj2.truck_info('Force')"
      ],
      "metadata": {
        "id": "wFR9opJiJV_p",
        "colab": {
          "base_uri": "https://localhost:8080/"
        },
        "outputId": "ca688608-9410-446f-d1eb-e6c5ad367414"
      },
      "execution_count": 27,
      "outputs": [
        {
          "output_type": "stream",
          "name": "stdout",
          "text": [
            "This is Vehicle\n",
            "Truck name is: Force\n"
          ]
        }
      ]
    },
    {
      "cell_type": "markdown",
      "source": [
        "**5) Hybrid Inheritance**\n",
        "* When inheritance is consists of multiple types or a combination of different inheritance is called hybrid inheritance.\n",
        "\n",
        "![python_hybrid_inheritance.webp](data:image/webp;base64,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)"
      ],
      "metadata": {
        "id": "zlXEW1zAJbTz"
      }
    },
    {
      "cell_type": "code",
      "source": [
        "# Example\n",
        "\n",
        "class Vehicle:\n",
        "    def vehicle_info(self):\n",
        "        print(\"Inside Vehicle class\")\n",
        "\n",
        "class Car(Vehicle):\n",
        "    def car_info(self):\n",
        "        print(\"Inside Car class\")\n",
        "\n",
        "class Truck(Vehicle):\n",
        "    def truck_info(self):\n",
        "        print(\"Inside Truck class\")\n",
        "\n",
        "# Sports Car can inherits properties of Vehicle and Car\n",
        "class SportsCar(Car, Vehicle):\n",
        "    def sports_car_info(self):\n",
        "        print(\"Inside SportsCar class\")\n",
        "        "
      ],
      "metadata": {
        "id": "Xxc-d6FNJiKn"
      },
      "execution_count": 29,
      "outputs": []
    },
    {
      "cell_type": "code",
      "source": [
        "# create object\n",
        "s_car = SportsCar()\n",
        "s_car.vehicle_info()\n",
        "s_car.car_info()\n"
      ],
      "metadata": {
        "id": "D1lgRrBEJmnv",
        "colab": {
          "base_uri": "https://localhost:8080/"
        },
        "outputId": "bd32573b-fe62-4adf-aa96-74b3d2418bf5"
      },
      "execution_count": 31,
      "outputs": [
        {
          "output_type": "stream",
          "name": "stdout",
          "text": [
            "Inside Vehicle class\n",
            "Inside Car class\n"
          ]
        }
      ]
    },
    {
      "cell_type": "code",
      "source": [],
      "metadata": {
        "id": "DT0ARAzZmEBC"
      },
      "execution_count": null,
      "outputs": []
    }
  ]
}