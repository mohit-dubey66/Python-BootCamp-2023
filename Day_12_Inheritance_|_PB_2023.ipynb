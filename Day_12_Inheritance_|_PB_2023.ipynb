{
  "nbformat": 4,
  "nbformat_minor": 0,
  "metadata": {
    "colab": {
      "provenance": [],
      "authorship_tag": "ABX9TyMOX9anPmlDOYKxDRw9t5eI",
      "include_colab_link": true
    },
    "kernelspec": {
      "name": "python3",
      "display_name": "Python 3"
    },
    "language_info": {
      "name": "python"
    }
  },
  "cells": [
    {
      "cell_type": "markdown",
      "metadata": {
        "id": "view-in-github",
        "colab_type": "text"
      },
      "source": [
        "<a href=\"https://colab.research.google.com/github/mohit-dubey66/Python-BootCamp-2023/blob/main/Day_12_Inheritance_%7C_PB_2023.ipynb\" target=\"_parent\"><img src=\"https://colab.research.google.com/assets/colab-badge.svg\" alt=\"Open In Colab\"/></a>"
      ]
    },
    {
      "cell_type": "markdown",
      "source": [
        "# **INHERITANCE**"
      ],
      "metadata": {
        "id": "laJMZSz_WKz_"
      }
    },
    {
      "cell_type": "markdown",
      "source": [
        "* The processing of inheriting the properties of the parent class into a child class is called inheritance.\n",
        "\n",
        "* The existing class is called a base class or parent class and the new class is called a subclass or child class or derived class.\n",
        "\n",
        "* The main purpose of inheritance is reusability of code becasue we can use the code existing class to create a new class instead of creating it from scratch.\n",
        "* In inheritance the child class accquires all the data members, properties and functions from the parent class.\n"
      ],
      "metadata": {
        "id": "_tBx4hiZWYOr"
      }
    },
    {
      "cell_type": "code",
      "source": [
        "# Real life example - Vehicle ----> Car"
      ],
      "metadata": {
        "id": "dM1JAKa4Zw0G"
      },
      "execution_count": null,
      "outputs": []
    },
    {
      "cell_type": "code",
      "source": [
        "# syntax"
      ],
      "metadata": {
        "id": "mWdLpXG7ajDP"
      },
      "execution_count": null,
      "outputs": []
    },
    {
      "cell_type": "markdown",
      "source": [
        "**What get's inherited?**\n",
        "* Constructor\n",
        "* Non-Private Attributes\n",
        "* Non-Private methods"
      ],
      "metadata": {
        "id": "KX7ano1uan4K"
      }
    },
    {
      "cell_type": "markdown",
      "source": [
        "**1) Constructor**\n",
        "\n",
        "If child doesn/t have any constructor then Parent's constructor is called and initialized. "
      ],
      "metadata": {
        "id": "Z1Qy2AnSa16k"
      }
    },
    {
      "cell_type": "code",
      "source": [
        "# Example:1\n",
        "class Phone:\n",
        "    def __init__(self, price, brand, camera):\n",
        "        self.price = price\n",
        "        self.brand = brand\n",
        "        self.camera = camera\n",
        "    \n",
        "    def buy(self):\n",
        "        print(\"Buying a phone\")"
      ],
      "metadata": {
        "id": "kdTFVgRGbh51"
      },
      "execution_count": null,
      "outputs": []
    },
    {
      "cell_type": "code",
      "source": [
        "class SmartPhone(Phone):\n",
        "    pass"
      ],
      "metadata": {
        "id": "77P1jya3bxvs"
      },
      "execution_count": null,
      "outputs": []
    },
    {
      "cell_type": "code",
      "source": [
        "s = SmartPhone(phone)\n",
        "s.buy()"
      ],
      "metadata": {
        "id": "vUBydHU_b5iv"
      },
      "execution_count": null,
      "outputs": []
    },
    {
      "cell_type": "code",
      "source": [
        "# Example : 2\n",
        "class Phone:\n",
        "    def __init__(self, price, brand, camera):\n",
        "        print(\"Inside phone constructor!\")\n",
        "        self.price = price\n",
        "        self.brand = brand\n",
        "        self.camera = camera\n",
        "    \n",
        "class SmartPhone(Phone):\n",
        "    def __init__(self, os, ram):\n",
        "        self.os = os\n",
        "        self.ram = ram\n",
        "        print(\"inside SmartPhone constructor!\")"
      ],
      "metadata": {
        "id": "xk0v-dQvcMkx"
      },
      "execution_count": null,
      "outputs": []
    },
    {
      "cell_type": "code",
      "source": [
        "s = SmartPhone(\"Android\", 2)"
      ],
      "metadata": {
        "id": "BKGhJlnXdFWu"
      },
      "execution_count": null,
      "outputs": []
    },
    {
      "cell_type": "markdown",
      "source": [
        "NOTE:\n",
        "* Since, child has constructor, hence only child constructor will be executed and initialized, parent constructor won't be executed. So if I try to access brand it will throw error."
      ],
      "metadata": {
        "id": "qvYC0ZAodJWq"
      }
    },
    {
      "cell_type": "markdown",
      "source": [
        "**CHILD CAN NOT ACCESS PRIVATE MEMBERS OF THE CLASS**"
      ],
      "metadata": {
        "id": "U-FWy8RZdjXn"
      }
    },
    {
      "cell_type": "code",
      "source": [
        "# Example.1\n",
        "class Phone:\n",
        "    def __init__(self, price, brand, camera):\n",
        "        print(\"Inside phone constructor!\")\n",
        "        self.price = price\n",
        "        self.brand = brand\n",
        "        self.camera = camera\n",
        "    \n",
        "    def __show(self):\n",
        "        print(self.__price)"
      ],
      "metadata": {
        "id": "0hg7iY-tdoup"
      },
      "execution_count": null,
      "outputs": []
    },
    {
      "cell_type": "code",
      "source": [
        "class SmartPhone(Phone):\n",
        "    def check(self):\n",
        "        print(self.__price)"
      ],
      "metadata": {
        "id": "zZgAPVSEdyML"
      },
      "execution_count": null,
      "outputs": []
    },
    {
      "cell_type": "code",
      "source": [
        "s = SmartPhone(2000, 'Apple', 13)\n",
        "print(s.brand)"
      ],
      "metadata": {
        "id": "R-nn2UY9eDOO"
      },
      "execution_count": null,
      "outputs": []
    }
  ]
}