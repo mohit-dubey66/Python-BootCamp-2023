{
  "cells": [
    {
      "cell_type": "markdown",
      "metadata": {
        "id": "view-in-github",
        "colab_type": "text"
      },
      "source": [
        "<a href=\"https://colab.research.google.com/github/mohit-dubey66/Python-BootCamp-2023/blob/main/Day_1_Python_BootCamp_2023.ipynb\" target=\"_parent\"><img src=\"https://colab.research.google.com/assets/colab-badge.svg\" alt=\"Open In Colab\"/></a>"
      ]
    },
    {
      "cell_type": "markdown",
      "source": [
        "# **Python Output**\n",
        "\n",
        "Syntax: print(value, ..., sep='', end = '\\n', file = sys.stdout, flush = False)"
      ],
      "metadata": {
        "id": "rhcrbR9jDJ5-"
      }
    },
    {
      "cell_type": "code",
      "source": [
        "# #seperating or changing space values\n",
        "# # print('Hello', 'world', sep = '*')\n",
        "# print('hello',end = ' ')\n",
        "# print('world')\n",
        "\n",
        "print(5)\n"
      ],
      "metadata": {
        "id": "1ZJWxY-RDNt9",
        "colab": {
          "base_uri": "https://localhost:8080/"
        },
        "outputId": "0c933af4-6224-476f-ff48-7c96e3a595e9"
      },
      "execution_count": 4,
      "outputs": [
        {
          "output_type": "stream",
          "name": "stdout",
          "text": [
            "hello world\n"
          ]
        }
      ]
    },
    {
      "cell_type": "code",
      "source": [
        "# printing two statemetns in a line\n",
        "print(5)\n"
      ],
      "metadata": {
        "id": "b2X6sZUPD2pt"
      },
      "execution_count": null,
      "outputs": []
    },
    {
      "cell_type": "markdown",
      "source": [
        "# **Data Types in Python**"
      ],
      "metadata": {
        "id": "oRLwXYOrEBM9"
      }
    },
    {
      "cell_type": "code",
      "source": [
        "# 1) Integer\n",
        "print(4)"
      ],
      "metadata": {
        "id": "tz7HKv-iEEnd"
      },
      "execution_count": null,
      "outputs": []
    },
    {
      "cell_type": "code",
      "source": [
        "# 2) Decimal Float\n",
        "print(5.6)"
      ],
      "metadata": {
        "id": "yqj3t-VIEqU1"
      },
      "execution_count": null,
      "outputs": []
    },
    {
      "cell_type": "code",
      "source": [
        "# 3) Boolean\n",
        "print(0)\n",
        "print(1)\n",
        "print(True)\n",
        "print(False)"
      ],
      "metadata": {
        "id": "ESY_khogEuo2",
        "colab": {
          "base_uri": "https://localhost:8080/"
        },
        "outputId": "46f4c469-d0a7-4462-9645-bf4366b4f77f"
      },
      "execution_count": 6,
      "outputs": [
        {
          "output_type": "stream",
          "name": "stdout",
          "text": [
            "0\n",
            "1\n",
            "True\n",
            "False\n"
          ]
        }
      ]
    },
    {
      "cell_type": "code",
      "source": [
        "# 4) Text/Strings\n",
        "print('4')\n",
        "print(\"123\")\n",
        "print('Hello')"
      ],
      "metadata": {
        "id": "_JAmgCH8E0Qe",
        "colab": {
          "base_uri": "https://localhost:8080/"
        },
        "outputId": "4f215cb8-8a2e-43bd-ab21-442f868700df"
      },
      "execution_count": 5,
      "outputs": [
        {
          "output_type": "stream",
          "name": "stdout",
          "text": [
            "4\n",
            "123\n",
            "Hello\n"
          ]
        }
      ]
    },
    {
      "cell_type": "code",
      "source": [
        "# 5) Complex\n",
        "print(4 + 5j)"
      ],
      "metadata": {
        "id": "MAa_nZTME6IK",
        "colab": {
          "base_uri": "https://localhost:8080/"
        },
        "outputId": "6bc14e8c-39e5-41cd-90f1-b5a461519f51"
      },
      "execution_count": 7,
      "outputs": [
        {
          "output_type": "stream",
          "name": "stdout",
          "text": [
            "(4+5j)\n"
          ]
        }
      ]
    },
    {
      "cell_type": "code",
      "source": [
        "# 6) List\n",
        "print([1,2,3,'Hello',True])"
      ],
      "metadata": {
        "id": "S3E4MoRIE97R",
        "colab": {
          "base_uri": "https://localhost:8080/"
        },
        "outputId": "e7fc404c-7cc3-4e03-fd5e-af2a95bbb8d4"
      },
      "execution_count": 8,
      "outputs": [
        {
          "output_type": "stream",
          "name": "stdout",
          "text": [
            "[1, 2, 3, 'Hello', True]\n"
          ]
        }
      ]
    },
    {
      "cell_type": "code",
      "source": [
        "# 7) Tuple\n",
        "print((1,2,3,'Hello',True))"
      ],
      "metadata": {
        "id": "W0b0W8hYFAYd",
        "colab": {
          "base_uri": "https://localhost:8080/"
        },
        "outputId": "173b2b32-fcd7-4fbc-f7dc-a77d4555b468"
      },
      "execution_count": 9,
      "outputs": [
        {
          "output_type": "stream",
          "name": "stdout",
          "text": [
            "(1, 2, 3, 'Hello', True)\n"
          ]
        }
      ]
    },
    {
      "cell_type": "code",
      "source": [
        "# 8) Sets\n",
        "print({1,2,3,4,2})"
      ],
      "metadata": {
        "id": "KUJLKg1IFEeP",
        "colab": {
          "base_uri": "https://localhost:8080/"
        },
        "outputId": "44164795-71ae-4eb6-f4ea-aaa9e300e2d3"
      },
      "execution_count": 11,
      "outputs": [
        {
          "output_type": "stream",
          "name": "stdout",
          "text": [
            "{1, 2, 3, 4}\n"
          ]
        }
      ]
    },
    {
      "cell_type": "code",
      "source": [
        "# 9) Dictionary\n",
        "print({'name':'Python'})"
      ],
      "metadata": {
        "id": "AnA-TREeFHGV",
        "colab": {
          "base_uri": "https://localhost:8080/"
        },
        "outputId": "15ff52de-18c0-458e-d1b3-9a8799473da5"
      },
      "execution_count": 12,
      "outputs": [
        {
          "output_type": "stream",
          "name": "stdout",
          "text": [
            "{'name': 'Python'}\n"
          ]
        }
      ]
    },
    {
      "cell_type": "code",
      "source": [
        "# How to check types?\n",
        "type('hello')\n",
        "type(6)"
      ],
      "metadata": {
        "id": "3m8zOIb6FJJ_",
        "colab": {
          "base_uri": "https://localhost:8080/"
        },
        "outputId": "eff7bbcb-d048-41b7-885f-708c242fa4c2"
      },
      "execution_count": 21,
      "outputs": [
        {
          "output_type": "execute_result",
          "data": {
            "text/plain": [
              "int"
            ]
          },
          "metadata": {},
          "execution_count": 21
        }
      ]
    },
    {
      "cell_type": "code",
      "source": [
        "print(4,5.8,True,True, {True, True, True})"
      ],
      "metadata": {
        "colab": {
          "base_uri": "https://localhost:8080/"
        },
        "id": "NJNELlaJjwvN",
        "outputId": "43217e51-9165-4bca-8b1d-1be76ca5cc31"
      },
      "execution_count": 15,
      "outputs": [
        {
          "output_type": "stream",
          "name": "stdout",
          "text": [
            "4 5.8 True True {True}\n"
          ]
        }
      ]
    },
    {
      "cell_type": "markdown",
      "source": [
        "# **VARIABLE DECLARATION IN PYTHON**\n",
        "Variables are containers for future use."
      ],
      "metadata": {
        "id": "ezCMX1A6FZmD"
      }
    },
    {
      "cell_type": "code",
      "source": [
        "# Conventional Declaration method\n",
        "int num = 8"
      ],
      "metadata": {
        "id": "tHz-SMToFexi"
      },
      "execution_count": null,
      "outputs": []
    },
    {
      "cell_type": "code",
      "source": [
        "# But Python is different\n",
        "name = True\n",
        "print(name)\n"
      ],
      "metadata": {
        "id": "eJmktdUOGUIG",
        "colab": {
          "base_uri": "https://localhost:8080/"
        },
        "outputId": "9c9105ac-4387-4e97-9240-53ef207b3c3b"
      },
      "execution_count": 20,
      "outputs": [
        {
          "output_type": "stream",
          "name": "stdout",
          "text": [
            "True\n"
          ]
        }
      ]
    },
    {
      "cell_type": "markdown",
      "source": [
        "# **Dynamic Typing**\n",
        "\n",
        "In C/C++ or Java like languages, we tell compilers the type of variables while declaration.\n",
        "E.g.:"
      ],
      "metadata": {
        "id": "ctvZnVi-GjLH"
      }
    },
    {
      "cell_type": "code",
      "source": [
        "int a = 5\n",
        "string name = 'Mohit'"
      ],
      "metadata": {
        "id": "pSSG5qnxHujO"
      },
      "execution_count": null,
      "outputs": []
    },
    {
      "cell_type": "markdown",
      "source": [
        "But in Python there's no need of type declaration. It auto-detects the type of variables.\n",
        "\n"
      ],
      "metadata": {
        "id": "d7Ml174IH79u"
      }
    },
    {
      "cell_type": "markdown",
      "source": [
        "# **Static Typing**\n",
        "In C/C++ or Java like languages, we define the type of variables while declaration, this is called static typing and Python does not support this."
      ],
      "metadata": {
        "id": "P87Isru9IGum"
      }
    },
    {
      "cell_type": "markdown",
      "source": [
        "# **Dynamic Binding vs Static Binding**\n",
        "Static binding refers to the execution of a program where type of object is determined at compile time i.e., when compiler executes the code it know the type of object or class to which object belongs. While in case of dynamic binding the type of object is determined at runtime.\n",
        "E.g.: "
      ],
      "metadata": {
        "id": "Ql8-8O_xJBAZ"
      }
    },
    {
      "cell_type": "code",
      "source": [
        "a = 2\n",
        "print(a)\n",
        "print(type(a))\n",
        "\n",
        "a = 'Mohit'\n",
        "print(a)\n",
        "print(type(a))"
      ],
      "metadata": {
        "id": "aC-zGZqEJ3Tq",
        "colab": {
          "base_uri": "https://localhost:8080/"
        },
        "outputId": "a97b2f33-8d4f-485f-e592-77ef1c4e1570"
      },
      "execution_count": 24,
      "outputs": [
        {
          "output_type": "stream",
          "name": "stdout",
          "text": [
            "2\n",
            "<class 'int'>\n",
            "Mohit\n",
            "<class 'str'>\n"
          ]
        }
      ]
    },
    {
      "cell_type": "markdown",
      "source": [
        "in static binding once the variable type is declared it cannot hold any other variable type."
      ],
      "metadata": {
        "id": "nWfEqIzTKdZP"
      }
    },
    {
      "cell_type": "markdown",
      "source": [
        "# **Declaring Variables of Python in Style**\n"
      ],
      "metadata": {
        "id": "GHWEbhNoKq3r"
      }
    },
    {
      "cell_type": "code",
      "source": [
        "# 1) a = ?\n",
        "# 2) a,b,c = ?\n",
        "# 3) a = b = c = ?\n",
        "\n",
        "a = 4\n",
        "b = 5\n",
        "a, b = b , a\n",
        "print(a,b)"
      ],
      "metadata": {
        "id": "6QEPXLiNKzsk",
        "colab": {
          "base_uri": "https://localhost:8080/"
        },
        "outputId": "66ff8acc-febc-4581-f321-fda310122adf"
      },
      "execution_count": 31,
      "outputs": [
        {
          "output_type": "stream",
          "name": "stdout",
          "text": [
            "5 4\n"
          ]
        }
      ]
    },
    {
      "cell_type": "markdown",
      "source": [
        "# **Comments**"
      ],
      "metadata": {
        "id": "jcp7Rxl4LF1o"
      }
    },
    {
      "cell_type": "code",
      "source": [
        "#"
      ],
      "metadata": {
        "id": "z4UOM8WjVf8L"
      },
      "execution_count": null,
      "outputs": []
    }
  ],
  "metadata": {
    "colab": {
      "provenance": [],
      "include_colab_link": true
    },
    "kernelspec": {
      "display_name": "Python 3",
      "name": "python3"
    }
  },
  "nbformat": 4,
  "nbformat_minor": 0
}