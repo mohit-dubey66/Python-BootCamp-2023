{
  "nbformat": 4,
  "nbformat_minor": 0,
  "metadata": {
    "colab": {
      "provenance": [],
      "authorship_tag": "ABX9TyNIK2DMOouGn1HC1jxSmnM8",
      "include_colab_link": true
    },
    "kernelspec": {
      "name": "python3",
      "display_name": "Python 3"
    },
    "language_info": {
      "name": "python"
    }
  },
  "cells": [
    {
      "cell_type": "markdown",
      "metadata": {
        "id": "view-in-github",
        "colab_type": "text"
      },
      "source": [
        "<a href=\"https://colab.research.google.com/github/mohit-dubey66/Python-BootCamp-2023/blob/main/Day5_Python_Bootcamp_2023.ipynb\" target=\"_parent\"><img src=\"https://colab.research.google.com/assets/colab-badge.svg\" alt=\"Open In Colab\"/></a>"
      ]
    },
    {
      "cell_type": "markdown",
      "source": [
        "# **LISTS IN PYTHON**"
      ],
      "metadata": {
        "id": "ySifL6mqnbDf"
      }
    },
    {
      "cell_type": "markdown",
      "source": [
        "**CREATING LISTS**\n",
        "\n",
        "1) Empty\n"
      ],
      "metadata": {
        "id": "5eV1QyP-nd7t"
      }
    },
    {
      "cell_type": "code",
      "source": [],
      "metadata": {
        "id": "iYlCUP2zpNy3"
      },
      "execution_count": null,
      "outputs": []
    },
    {
      "cell_type": "markdown",
      "source": [
        "2) 1D List"
      ],
      "metadata": {
        "id": "8JKqHA4icZdf"
      }
    },
    {
      "cell_type": "code",
      "source": [],
      "metadata": {
        "id": "Tj9QGxMfccqu"
      },
      "execution_count": null,
      "outputs": []
    },
    {
      "cell_type": "markdown",
      "source": [
        "3) 2D List"
      ],
      "metadata": {
        "id": "EaCeNMRmcpF0"
      }
    },
    {
      "cell_type": "code",
      "source": [],
      "metadata": {
        "id": "0OQyN5g2cpyA"
      },
      "execution_count": null,
      "outputs": []
    },
    {
      "cell_type": "markdown",
      "source": [
        "4) 3D List"
      ],
      "metadata": {
        "id": "pkcQK5lIce7k"
      }
    },
    {
      "cell_type": "code",
      "source": [],
      "metadata": {
        "id": "gknhfHoVchUK"
      },
      "execution_count": null,
      "outputs": []
    },
    {
      "cell_type": "markdown",
      "source": [
        "5) Heterogenous List"
      ],
      "metadata": {
        "id": "sTkEzzc8cjs4"
      }
    },
    {
      "cell_type": "code",
      "source": [],
      "metadata": {
        "id": "Nak9ih1YcmOa"
      },
      "execution_count": null,
      "outputs": []
    },
    {
      "cell_type": "markdown",
      "source": [
        "6) Using Type Conversion"
      ],
      "metadata": {
        "id": "8lZ6AuKicmY5"
      }
    },
    {
      "cell_type": "code",
      "source": [],
      "metadata": {
        "id": "BFbCWTqKcnGv"
      },
      "execution_count": null,
      "outputs": []
    },
    {
      "cell_type": "markdown",
      "source": [
        "**ACCESSING ITEMS FROM A LIST**"
      ],
      "metadata": {
        "id": "h1V_CM8Ecuff"
      }
    },
    {
      "cell_type": "markdown",
      "source": [
        "1) USING INDEXING"
      ],
      "metadata": {
        "id": "AIfi0nqRc0AI"
      }
    },
    {
      "cell_type": "code",
      "source": [
        "# E.G."
      ],
      "metadata": {
        "id": "XVxE8Eqyc7yn"
      },
      "execution_count": null,
      "outputs": []
    },
    {
      "cell_type": "markdown",
      "source": [
        "2) USING SLICING"
      ],
      "metadata": {
        "id": "yuERAXXPc9lT"
      }
    },
    {
      "cell_type": "code",
      "source": [
        "# E.G."
      ],
      "metadata": {
        "id": "w-7D4aZFdBZr"
      },
      "execution_count": null,
      "outputs": []
    },
    {
      "cell_type": "markdown",
      "source": [
        " **ADDING ITEMS TO A LIST**"
      ],
      "metadata": {
        "id": "iKXLAwvwdDQF"
      }
    },
    {
      "cell_type": "markdown",
      "source": [
        "1) append() - appends an item to end of the list, one at a time."
      ],
      "metadata": {
        "id": "vvEeZfjGdIgK"
      }
    },
    {
      "cell_type": "code",
      "source": [
        "# E.G."
      ],
      "metadata": {
        "id": "NJ-JTxYmdRKL"
      },
      "execution_count": null,
      "outputs": []
    },
    {
      "cell_type": "markdown",
      "source": [
        "2) extend() - extends the list i.e., we can add multiple items."
      ],
      "metadata": {
        "id": "Pe1ZuT6pdS0X"
      }
    },
    {
      "cell_type": "code",
      "source": [
        "# E.G."
      ],
      "metadata": {
        "id": "B5jDfPGKdhNN"
      },
      "execution_count": null,
      "outputs": []
    },
    {
      "cell_type": "markdown",
      "source": [
        "3) insert(index, value) - inserts the element in list on desired location"
      ],
      "metadata": {
        "id": "WnRn7GlBdshd"
      }
    },
    {
      "cell_type": "code",
      "source": [
        "# E.G."
      ],
      "metadata": {
        "id": "mut09UQpd2-e"
      },
      "execution_count": null,
      "outputs": []
    },
    {
      "cell_type": "markdown",
      "source": [
        "**EDITING ITEMS IN LIST**\n",
        "\n",
        "Lists are mutable in Python, so, we can alter its values."
      ],
      "metadata": {
        "id": "R2kVj-4Fd4ON"
      }
    },
    {
      "cell_type": "code",
      "source": [
        "# E.G."
      ],
      "metadata": {
        "id": "pD1Lx2rtd_yS"
      },
      "execution_count": null,
      "outputs": []
    },
    {
      "cell_type": "markdown",
      "source": [
        "**DELETING ITEMS IN LIST**"
      ],
      "metadata": {
        "id": "VujQAESYefkF"
      }
    },
    {
      "cell_type": "markdown",
      "source": [
        "1) del - if used only 'del' it deltes whole list. It can also delete based on indexing and slicing."
      ],
      "metadata": {
        "id": "DeSvZSW9e6aw"
      }
    },
    {
      "cell_type": "code",
      "source": [
        "# E.G."
      ],
      "metadata": {
        "id": "iJlbdTK6e2G7"
      },
      "execution_count": null,
      "outputs": []
    },
    {
      "cell_type": "markdown",
      "source": [
        "2) remove() - removes the given value in list. No need to give index."
      ],
      "metadata": {
        "id": "LtdTv1AGe2zY"
      }
    },
    {
      "cell_type": "code",
      "source": [
        "lst = [1,2,3,4,5,6,7]\n",
        "lst.remove(4)\n",
        "lst"
      ],
      "metadata": {
        "id": "uxQJsYUSfFZN"
      },
      "execution_count": null,
      "outputs": []
    },
    {
      "cell_type": "markdown",
      "source": [
        "3) pop() - removese the element when it's index is given, if not given, it deletes the last element of the list i.e., default index is -1. "
      ],
      "metadata": {
        "id": "MJV6nr8ifTur"
      }
    },
    {
      "cell_type": "code",
      "source": [
        "# E.G."
      ],
      "metadata": {
        "id": "IBjF9mZQff0x"
      },
      "execution_count": null,
      "outputs": []
    },
    {
      "cell_type": "markdown",
      "source": [
        "4) clear() - deletes all the elements of the list and makes the list empty."
      ],
      "metadata": {
        "id": "piML7nPOfnwe"
      }
    },
    {
      "cell_type": "code",
      "source": [
        "# E.g."
      ],
      "metadata": {
        "id": "cAPJHZTDgDyG"
      },
      "execution_count": null,
      "outputs": []
    },
    {
      "cell_type": "markdown",
      "source": [
        "**OPERATIONS ON LIST**"
      ],
      "metadata": {
        "id": "CUVYts8LgF0O"
      }
    },
    {
      "cell_type": "markdown",
      "source": [
        "1) Arithmetic Operations(+, *)"
      ],
      "metadata": {
        "id": "VUmg_AXegIY3"
      }
    },
    {
      "cell_type": "code",
      "source": [
        "# E.g."
      ],
      "metadata": {
        "id": "ihNSx0twgYnY"
      },
      "execution_count": null,
      "outputs": []
    },
    {
      "cell_type": "markdown",
      "source": [
        "2) Membership(in, not in)"
      ],
      "metadata": {
        "id": "HD3w9qUCgZIu"
      }
    },
    {
      "cell_type": "code",
      "source": [
        "# E.g."
      ],
      "metadata": {
        "id": "ki5vHrQ5gfjq"
      },
      "execution_count": null,
      "outputs": []
    },
    {
      "cell_type": "markdown",
      "source": [
        "3) Traversing the list"
      ],
      "metadata": {
        "id": "uqTFAs2Hggsj"
      }
    },
    {
      "cell_type": "code",
      "source": [
        "# E.g."
      ],
      "metadata": {
        "id": "lS2cXV4ggouV"
      },
      "execution_count": null,
      "outputs": []
    },
    {
      "cell_type": "markdown",
      "source": [
        "**LIST FUNCTION**"
      ],
      "metadata": {
        "id": "sOBezqYhg8_8"
      }
    },
    {
      "cell_type": "code",
      "source": [
        "# 1) len() | min() | max() | sorted()\n",
        "\n"
      ],
      "metadata": {
        "id": "iVXxig8mhBdX"
      },
      "execution_count": null,
      "outputs": []
    },
    {
      "cell_type": "code",
      "source": [
        "# 2) count() - count number of occurences of a value\n",
        "\n"
      ],
      "metadata": {
        "id": "u9QsK6hphKkY"
      },
      "execution_count": null,
      "outputs": []
    },
    {
      "cell_type": "code",
      "source": [
        "# 3) index() - it returns the index of given value. If there are\n",
        "#              multiple values then it returns the index of its first occurence.\n",
        "\n"
      ],
      "metadata": {
        "id": "TUNFIU4_hNCf"
      },
      "execution_count": null,
      "outputs": []
    },
    {
      "cell_type": "code",
      "source": [
        "# 4) reverse() - it reverses the list permanently. It doesn't return anything.\n",
        "\n"
      ],
      "metadata": {
        "id": "ciAgDNuqhrmT"
      },
      "execution_count": null,
      "outputs": []
    },
    {
      "cell_type": "code",
      "source": [
        "# 5) sort() - it permanently sorts the lists.\n",
        "\n"
      ],
      "metadata": {
        "id": "GwN-39dlh1oB"
      },
      "execution_count": null,
      "outputs": []
    },
    {
      "cell_type": "markdown",
      "source": [
        "**LIST COMPREHENSION**\n",
        "\n",
        "It provides a concise way of creating lists.\n",
        "\n",
        "Syntax:"
      ],
      "metadata": {
        "id": "C32cKf9EiOn1"
      }
    },
    {
      "cell_type": "code",
      "source": [
        "# newlist = [expression for item in iterable if condition == True]"
      ],
      "metadata": {
        "id": "N8upacaqibkf"
      },
      "execution_count": null,
      "outputs": []
    },
    {
      "cell_type": "markdown",
      "source": [
        "**Advantages of list comprehension:**\n",
        "\n",
        "i) More time and space efficient than loops.\n",
        "\n",
        "ii) Require fewer lines of code.\n",
        "\n",
        "iii) Transforms iterative statements into a formula. "
      ],
      "metadata": {
        "id": "UkcZJjZ0isHG"
      }
    },
    {
      "cell_type": "markdown",
      "source": [
        "**Programs in List comprehension**"
      ],
      "metadata": {
        "id": "Nt3lFo7djRtw"
      }
    },
    {
      "cell_type": "markdown",
      "source": [
        "Q.1) Add 1 to 10 numbers to a list."
      ],
      "metadata": {
        "id": "JwqtsMu4jawp"
      }
    },
    {
      "cell_type": "code",
      "source": [
        "# Iterative way\n",
        "\n",
        "\n",
        "\n",
        "# Using list comprehension\n",
        "\n"
      ],
      "metadata": {
        "id": "H8IAKZYajeV4"
      },
      "execution_count": null,
      "outputs": []
    },
    {
      "cell_type": "markdown",
      "source": [
        "Q.2) Multiplication on a vector."
      ],
      "metadata": {
        "id": "uy0EAXTFjlW6"
      }
    },
    {
      "cell_type": "code",
      "source": [
        "lst = [2,3,4]\n",
        "b = -3"
      ],
      "metadata": {
        "id": "tmie76A4juZF"
      },
      "execution_count": null,
      "outputs": []
    },
    {
      "cell_type": "markdown",
      "source": [
        "Q.3) Add squares in list."
      ],
      "metadata": {
        "id": "xiVA3wrbj-lU"
      }
    },
    {
      "cell_type": "code",
      "source": [
        "lst = [1,2,3,4,5,6,7,8,9]\n"
      ],
      "metadata": {
        "id": "fCf-kZ9rkBfw"
      },
      "execution_count": null,
      "outputs": []
    },
    {
      "cell_type": "markdown",
      "source": [
        "Q.4) Print all numbers divisible by 5 in range 1 to 50."
      ],
      "metadata": {
        "id": "0sTUhnW_kPjO"
      }
    },
    {
      "cell_type": "code",
      "source": [],
      "metadata": {
        "id": "JOVsjldxkWk6"
      },
      "execution_count": null,
      "outputs": []
    },
    {
      "cell_type": "markdown",
      "source": [
        "Q.5) Find languages that starts with 'p'."
      ],
      "metadata": {
        "id": "tOwEYXVtkf6D"
      }
    },
    {
      "cell_type": "code",
      "source": [
        "langs = ['python', 'cpp', 'java', 'php', 'dart']"
      ],
      "metadata": {
        "id": "7VQTCjeskuQu"
      },
      "execution_count": null,
      "outputs": []
    },
    {
      "cell_type": "code",
      "source": [],
      "metadata": {
        "id": "Pi8Dvl2WlSnb"
      },
      "execution_count": null,
      "outputs": []
    },
    {
      "cell_type": "markdown",
      "source": [
        "Q.6) Print a 3x3 matrix."
      ],
      "metadata": {
        "id": "WZmcdiWilS1H"
      }
    },
    {
      "cell_type": "code",
      "source": [
        "print([[i*j for i in range(1,4)] for j in range(1,4)])"
      ],
      "metadata": {
        "id": "45pckZYrlWhQ"
      },
      "execution_count": null,
      "outputs": []
    }
  ]
}